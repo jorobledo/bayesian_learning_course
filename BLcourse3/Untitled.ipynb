{
 "cells": [
  {
   "cell_type": "code",
   "execution_count": 108,
   "id": "a1bab0de-23b5-4de3-a7f0-bed3a2a7170f",
   "metadata": {},
   "outputs": [],
   "source": [
    "from Bio import SeqIO\n",
    "import glob\n",
    "import numpy as np\n",
    "import pandas as pd\n",
    "import os"
   ]
  },
  {
   "cell_type": "code",
   "execution_count": 109,
   "id": "6f8a23a7-9d2d-4572-8e86-4776ff334dfd",
   "metadata": {},
   "outputs": [],
   "source": [
    "seqs=[]\n",
    "names=[]\n",
    "\n",
    "with open(\"/Users/alinabazarova/Downloads/data_2/seq/mrna/adk_combined_aln.fasta\") as handle:\n",
    "    for record in SeqIO.parse(handle, \"fasta\"):\n",
    "        seqs.append(record.seq)\n",
    "        names.append(record.id)"
   ]
  },
  {
   "cell_type": "code",
   "execution_count": 110,
   "id": "af557631-6267-4bf6-a44c-ddeffc5a62ed",
   "metadata": {},
   "outputs": [],
   "source": [
    "ind=[i for i in range(len(str(seqs[0]))) if str(seqs[0])[i]!='-']"
   ]
  },
  {
   "cell_type": "code",
   "execution_count": 111,
   "id": "f53ffa7f-7258-46c1-90b5-765b24fddf71",
   "metadata": {},
   "outputs": [],
   "source": [
    "file=glob.glob(\"/Users/alinabazarova/Downloads/data_2/asa/mrna/adk/*\")\n",
    "#file[0].split('/')[-1].split('.')[0]\n",
    "file_names=[]\n",
    "for i in range(len(file)):\n",
    "    file_names.append(file[i].split('/')[-1].split('.')[0])\n",
    "#file_names"
   ]
  },
  {
   "cell_type": "code",
   "execution_count": 48,
   "id": "d1d3de63-cc97-4c2a-8025-86c23df58ce9",
   "metadata": {},
   "outputs": [
    {
     "data": {
      "text/plain": [
       "'adenylate_kinase|2007358..2007918|gi|58036264|ref|NC_004307.2|_Bifidobacterium_longum_NCC2705_chromosome__complete_genome'"
      ]
     },
     "execution_count": 48,
     "metadata": {},
     "output_type": "execute_result"
    }
   ],
   "source": [
    "names[0]"
   ]
  },
  {
   "cell_type": "code",
   "execution_count": 49,
   "id": "a4db01c5-d326-4229-a3dd-f68ed4308b18",
   "metadata": {},
   "outputs": [
    {
     "data": {
      "text/plain": [
       "[23]"
      ]
     },
     "execution_count": 49,
     "metadata": {},
     "output_type": "execute_result"
    }
   ],
   "source": [
    "[j for j in range(len(names)) if file[0].split('/')[-1].split('.')[0] in names[j]]"
   ]
  },
  {
   "cell_type": "code",
   "execution_count": 50,
   "id": "02db4ca0-dbfc-4c75-acab-547bae6bf360",
   "metadata": {},
   "outputs": [
    {
     "data": {
      "text/plain": [
       "'adk|3272856..3273500|gi|797166910|ref|NZ_CP011078.1|_Yersinia_ruckeri_strain_Big_Creek_74__complete_genome'"
      ]
     },
     "execution_count": 50,
     "metadata": {},
     "output_type": "execute_result"
    }
   ],
   "source": [
    "names[23]"
   ]
  },
  {
   "cell_type": "code",
   "execution_count": 51,
   "id": "0e8980c8-2438-4a5d-9cd7-e305ae3a4478",
   "metadata": {},
   "outputs": [
    {
     "data": {
      "text/plain": [
       "Seq('---------------------------------------------ATGCGTATC...---')"
      ]
     },
     "execution_count": 51,
     "metadata": {},
     "output_type": "execute_result"
    }
   ],
   "source": [
    "seqs[23]"
   ]
  },
  {
   "cell_type": "code",
   "execution_count": 52,
   "id": "72e1720d-f0bc-4191-b8ac-e56dce2189ef",
   "metadata": {},
   "outputs": [
    {
     "data": {
      "text/plain": [
       "778"
      ]
     },
     "execution_count": 52,
     "metadata": {},
     "output_type": "execute_result"
    }
   ],
   "source": [
    "len(seqs[23])"
   ]
  },
  {
   "cell_type": "code",
   "execution_count": 53,
   "id": "f86bc13d-d9fc-47e8-a0d8-456a61a43089",
   "metadata": {},
   "outputs": [],
   "source": [
    "a=-1*np.ones(len(seqs[23]))"
   ]
  },
  {
   "cell_type": "code",
   "execution_count": 65,
   "id": "6df26ede-936a-4d50-aa1c-68f299e9512a",
   "metadata": {},
   "outputs": [
    {
     "name": "stdout",
     "output_type": "stream",
     "text": [
      "sed '1d' /Users/alinabazarova/Downloads/data_2/asa/mrna/adk/Yersinia_ruckeri.asa >a.tmp\n",
      "1 A 163.116\n",
      "2 U 188.37\n",
      "3 G 173.195\n",
      "4 C 166.311\n",
      "5 G 185.036\n",
      "6 U 160.219\n",
      "7 A 152.57\n",
      "8 U 167.33\n",
      "9 C 117.273\n",
      "10 A 164.938\n"
     ]
    }
   ],
   "source": [
    "\n",
    "\n",
    "bb=\"sed '1d' \"+file[0]+\" >a.tmp\"\n",
    "\n",
    "print(bb)\n",
    "os.system(bb)\n",
    "os.system('head a.tmp')\n",
    "b=pd.read_csv(\"a.tmp\",header=None,sep=' ')"
   ]
  },
  {
   "cell_type": "code",
   "execution_count": 68,
   "id": "41add8a0-a8ab-49ce-b9a9-b4bc57d80e9f",
   "metadata": {},
   "outputs": [],
   "source": [
    "for i in range(len(ind)):\n",
    "    a[ind[i]]=b[2][i]"
   ]
  },
  {
   "cell_type": "code",
   "execution_count": 98,
   "id": "cd5d9f0a-0d31-412c-90fc-871fff649da8",
   "metadata": {},
   "outputs": [
    {
     "data": {
      "text/plain": [
       "'adenylate_kinase|1489926..1490504|gi|15963753|ref|NC_003047.1|_Sinorhizobium_meliloti_1021_chromosome__complete_genome'"
      ]
     },
     "execution_count": 98,
     "metadata": {},
     "output_type": "execute_result"
    }
   ],
   "source": [
    "i=1\n",
    "names[3]"
   ]
  },
  {
   "cell_type": "code",
   "execution_count": 78,
   "id": "300a0c90-a2b5-4d4c-a2e7-f137c7592699",
   "metadata": {},
   "outputs": [],
   "source": [
    "pd.DataFrame([a,a]).to_csv(\"trial1.csv\",sep=\" \",index=False,header=False)"
   ]
  },
  {
   "cell_type": "code",
   "execution_count": 197,
   "id": "0b08ad11-8999-4369-9104-fe2934101d2f",
   "metadata": {},
   "outputs": [
    {
     "name": "stdout",
     "output_type": "stream",
     "text": [
      "adenylate_kinase|2007358..2007918|gi|58036264|ref|NC_004307.2|_Bifidobacterium_longum_NCC2705_chromosome__complete_genome 0\n",
      "adenylate_kinase|1253783..1254361|gi|227820587|ref|NC_012587.1|_Sinorhizobium_fredii_NGR234_chromosome__complete_genome 1\n",
      "adenylate_kinase|1489926..1490504|gi|15963753|ref|NC_003047.1|_Sinorhizobium_meliloti_1021_chromosome__complete_genome 2\n",
      "adenylate_kinase|1576764..1577309|gi|118467340|ref|NC_008596.1|_Mycobacterium_smegmatis_str._MC2_155_chromosome__complete_genome 3\n",
      "adenylate_kinase|826122..826667|gi|448814763|ref|NC_000962.3|_Mycobacterium_tuberculosis_H37Rv__complete_genome 4\n",
      "adenylate_kinase|4204183..4204806|gi|32470666|ref|NC_005027.1|_Rhodopirellula_baltica_SH_1_chromosome__complete_genome 5\n",
      "adenylate_kinase|2005343..2006014|gi|46562128|ref|NC_002937.3|_Desulfovibrio_vulgaris_str._Hildenborough_chromosome__complete_genome 6\n",
      "adenylate_kinase|300915..301584|gi|159162017|ref|NC_006814.3|_Lactobacillus_acidophilus_NCFM_chromosome__complete_genome 7\n",
      "adenylate_kinase|119341..119979|gi|125716887|ref|NC_009009.1|_Streptococcus_sanguinis_SK36_chromosome__complete_genome 8\n",
      "adenylate_kinase|209234..209884|gi|29374661|ref|NC_004668.1|_Enterococcus_faecalis_V583_chromosome__complete_genome 9\n",
      "adenylate_kinase|137229..137879|gi|49476684|ref|NC_005957.1|_[Bacillus_thuringiensis]_serovar_konkukian_str._97-27_chromosome__complete_genome 10\n",
      "adenylate_kinase|1147058..1147687|gi|42516522|ref|NC_002967.9|_Treponema_denticola_ATCC_35405_chromosome__complete_genome 11\n",
      "adenylate_kinase|535058..535705|gi|15616630|ref|NC_002528.1|_Buchnera_aphidicola_str._APS__Acyrthosiphon_pisum__chromosome__complete_genome 12\n",
      "adk|1272028..1272672|gi|992371344|ref|NZ_CP014129.1|_Pantoea_agglomerans_strain_FDAARGOS_160__complete_genome 13\n",
      "adk|426565..427209|gi|1033102847|ref|NC_017531.2|_Pantoea_ananatis_AJ13355_DNA__complete_genome 14\n",
      "adk|592702..593346|gi|283783779|ref|NC_013716.1|_Citrobacter_rodentium_ICC168__complete_genome 15\n",
      "adk|536866..537510|gi|424814883|ref|NZ_CM001142.1|_Escherichia_fergusonii_ECD227_chromosome__whole_genome_shotgun_sequence 16\n",
      "adk|1120565..1121209|gi|417358931|ref|NC_012779.2|_Edwardsiella_ictaluri_93-146__complete_genome 17\n",
      "adk|1168626..1169270|gi|85057978|ref|NC_007712.1|_Sodalis_glossinidius_str._'morsitans'_DNA__complete_genome 18\n",
      "adk|1266827..1267471|gi|403056439|ref|NC_018525.1|_Pectobacterium_carotovorum_subsp._carotovorum_PCC21__complete_genome 19\n",
      "adk|3186598..3187242|gi|873914341|ref|NZ_CP011975.1|_Yersinia_aleksiciae_strain_159__complete_genome 20\n",
      "adk|3272856..3273500|gi|797166910|ref|NZ_CP011078.1|_Yersinia_ruckeri_strain_Big_Creek_74__complete_genome 21\n",
      "adenylate_kinase_Adk|2117464..2118108|gi|414561716|ref|NC_004347.2|_Shewanella_oneidensis_MR-1_chromosome__complete_genome 22\n",
      "adenylate_kinase|1114446..1115102|gi|21672841|ref|NC_002932.3|_Chlorobium_tepidum_TLS_chromosome__complete_genome 23\n",
      "adenylate_kinase|1498072..1498719|gi|66043271|ref|NC_007005.1|_Pseudomonas_syringae_pv._syringae_B728a_chromosome__complete_genome 24\n",
      "adenylate_kinase|845916..846563|gi|77358697|ref|NC_003112.2|_Neisseria_meningitidis_MC58_chromosome__complete_genome 25\n",
      "nucleoside-diphosphate_kinase|399357..400052|gi|77358712|ref|NC_002971.3|_Coxiella_burnetii_RSA_493_chromosome__complete_genome 26\n",
      "adk|1577888..1578532|gi|983532166|ref|NZ_CP012554.1|_Citrobacter_freundii_strain_P10159__complete_genome 27\n",
      "adenylate_kinase|435696..436340|gi|82775382|ref|NC_007606.1|_Shigella_dysenteriae_Sd197_chromosome__complete_genome 28\n",
      "adk|2531971..2532615|gi|823306030|ref|NZ_CP011359.1|_Edwardsiella_tarda_strain_FL95-01__complete_genome 29\n",
      "adk|4507364..4508008|gi|37524032|ref|NC_005126.1|_Photorhabdus_luminescens_subsp._laumondii_TTO1_complete_genome 30\n",
      "adk|2836575..2837219|gi|927829596|ref|NZ_CP012675.1|_Proteus_vulgaris_strain_CYPV1__complete_genome 31\n",
      "adenylate_kinase|375895..376539|gi|16271976|ref|NC_000907.1|_Haemophilus_influenzae_Rd_KW20_chromosome__complete_genome 32\n",
      "adenylate_kinase|3258846..3259493|gi|15893298|ref|NC_003030.1|_Clostridium_acetobutylicum_ATCC_824_chromosome__complete_genome 33\n",
      "adenylate_kinase|1487620..1488282|gi|15642775|ref|NC_000853.1|_Thermotoga_maritima_MSB8_chromosome__complete_genome 34\n",
      "adenylate_kinase|2157280..2157927|gi|15671982|ref|NC_002662.1|_Lactococcus_lactis_subsp._lactis_Il1403_chromosome__complete_genome 35\n",
      "adenylate_kinase|1882687..1883325|gi|347750429|ref|NC_004350.2|_Streptococcus_mutans_UA159_chromosome__complete_genome 36\n",
      "adenylate_kinase|3118528..3119181|gi|400756305|ref|NC_002939.5|_Geobacter_sulfurreducens_PCA_chromosome__complete_genome 37\n",
      "adenylate_kinase|2317850..2318488|gi|83814055|ref|NC_007677.1|_Salinibacter_ruber_DSM_13855_chromosome__complete_genome 38\n",
      "adenylate_kinase|2220214..2220759|gi|15826865|ref|NC_002677.1|_Mycobacterium_leprae_TN_chromosome__complete_genome 39\n",
      "adenylate_kinase|3907725..3908288|gi|21229478|ref|NC_003902.1|_Xanthomonas_campestris_pv._campestris_str._ATCC_33913_chromosome__complete_genome 40\n",
      "adk|1335658..1336302|gi|50118965|ref|NC_004547.2|_Erwinia_carotovora_subsp._atroseptica_SCRI1043__complete_genome 41\n"
     ]
    }
   ],
   "source": [
    "array_labels=[]\n",
    "\n",
    "for i in range(len(names)):\n",
    "    print(names[i],i)\n",
    "    ind=[m for m in range(len(str(seqs[i]))) if str(seqs[i])[m]!='-']\n",
    "    #k=[j for j in range(len(names)) if file_names[j] in names[i]][0]\n",
    "    k=[j for j in range(len(file_names)) if file_names[j]==dict[str(names[i])]][0]\n",
    "    a=-1*np.ones(len(seqs[i]))\n",
    "    bb=\"sed '1d' \"+file[k]+\" >a.tmp\"\n",
    "    os.system(bb)\n",
    "    b=pd.read_csv(\"a.tmp\",header=None,sep=' ')\n",
    "    for l in range(len(ind)):\n",
    "        a[ind[l]]=b[2][l]\n",
    "    array_labels.append(a)\n",
    "    "
   ]
  },
  {
   "cell_type": "code",
   "execution_count": 107,
   "id": "adccc726-2dad-4e7b-a551-474f1090f0e8",
   "metadata": {},
   "outputs": [
    {
     "data": {
      "text/plain": [
       "43"
      ]
     },
     "execution_count": 107,
     "metadata": {},
     "output_type": "execute_result"
    }
   ],
   "source": [
    "len(file)"
   ]
  },
  {
   "cell_type": "code",
   "execution_count": 181,
   "id": "ce125648-0110-407a-8d30-f3a5ae8d207f",
   "metadata": {},
   "outputs": [
    {
     "name": "stdout",
     "output_type": "stream",
     "text": [
      "Sinorhizobium_fredii\n",
      "adenylate_kinase|1253783..1254361|gi|227820587|ref|NC_012587.1|_Sinorhizobium_fredii_NGR234_chromosome__complete_genome\n",
      "Geobacter_sulfurreducens\n",
      "adenylate_kinase|3118528..3119181|gi|400756305|ref|NC_002939.5|_Geobacter_sulfurreducens_PCA_chromosome__complete_genome\n",
      "Bacillus_thuringiensis\n",
      "adenylate_kinase|137229..137879|gi|49476684|ref|NC_005957.1|_[Bacillus_thuringiensis]_serovar_konkukian_str._97-27_chromosome__complete_genome\n",
      "Proteus_vulgaris\n",
      "adk|2836575..2837219|gi|927829596|ref|NZ_CP012675.1|_Proteus_vulgaris_strain_CYPV1__complete_genome\n",
      "Coxiella_burnetii\n",
      "nucleoside-diphosphate_kinase|399357..400052|gi|77358712|ref|NC_002971.3|_Coxiella_burnetii_RSA_493_chromosome__complete_genome\n",
      "Shewanella_oneidensis\n",
      "adenylate_kinase_Adk|2117464..2118108|gi|414561716|ref|NC_004347.2|_Shewanella_oneidensis_MR-1_chromosome__complete_genome\n",
      "Desulfovibrio_vulgaris\n",
      "adenylate_kinase|2005343..2006014|gi|46562128|ref|NC_002937.3|_Desulfovibrio_vulgaris_str._Hildenborough_chromosome__complete_genome\n",
      "Streptococcus_sanguinis\n",
      "adenylate_kinase|119341..119979|gi|125716887|ref|NC_009009.1|_Streptococcus_sanguinis_SK36_chromosome__complete_genome\n",
      "Haemophilus_influenzae\n",
      "adenylate_kinase|375895..376539|gi|16271976|ref|NC_000907.1|_Haemophilus_influenzae_Rd_KW20_chromosome__complete_genome\n",
      "Streptococcus_mutans\n",
      "adenylate_kinase|1882687..1883325|gi|347750429|ref|NC_004350.2|_Streptococcus_mutans_UA159_chromosome__complete_genome\n",
      "Lactobacillus_acidophilus\n",
      "adenylate_kinase|300915..301584|gi|159162017|ref|NC_006814.3|_Lactobacillus_acidophilus_NCFM_chromosome__complete_genome\n",
      "Photorhabdus_luminescens\n",
      "adk|4507364..4508008|gi|37524032|ref|NC_005126.1|_Photorhabdus_luminescens_subsp._laumondii_TTO1_complete_genome\n",
      "Xanthomonas_campestris\n",
      "adenylate_kinase|3907725..3908288|gi|21229478|ref|NC_003902.1|_Xanthomonas_campestris_pv._campestris_str._ATCC_33913_chromosome__complete_genome\n",
      "Neisseria_meningitidis\n",
      "adenylate_kinase|845916..846563|gi|77358697|ref|NC_003112.2|_Neisseria_meningitidis_MC58_chromosome__complete_genome\n",
      "Sinorhizobium_meliloti\n",
      "adenylate_kinase|1489926..1490504|gi|15963753|ref|NC_003047.1|_Sinorhizobium_meliloti_1021_chromosome__complete_genome\n",
      "Bifidobacterium_longum\n",
      "adenylate_kinase|2007358..2007918|gi|58036264|ref|NC_004307.2|_Bifidobacterium_longum_NCC2705_chromosome__complete_genome\n",
      "Edwardsiella_tarda\n",
      "adk|2531971..2532615|gi|823306030|ref|NZ_CP011359.1|_Edwardsiella_tarda_strain_FL95-01__complete_genome\n",
      "Mycobacterium_tuberculosis\n",
      "adenylate_kinase|826122..826667|gi|448814763|ref|NC_000962.3|_Mycobacterium_tuberculosis_H37Rv__complete_genome\n",
      "Treponema_denticola\n",
      "adenylate_kinase|1147058..1147687|gi|42516522|ref|NC_002967.9|_Treponema_denticola_ATCC_35405_chromosome__complete_genome\n",
      "Escherichia_fergusonii\n",
      "adk|536866..537510|gi|424814883|ref|NZ_CM001142.1|_Escherichia_fergusonii_ECD227_chromosome__whole_genome_shotgun_sequence\n",
      "Salinibacter_ruber\n",
      "adenylate_kinase|2317850..2318488|gi|83814055|ref|NC_007677.1|_Salinibacter_ruber_DSM_13855_chromosome__complete_genome\n",
      "Chlorobaculum_tepidum\n",
      "adenylate_kinase|1114446..1115102|gi|21672841|ref|NC_002932.3|_Chlorobium_tepidum_TLS_chromosome__complete_genome\n",
      "Mycobacterium_smegmatis\n",
      "adenylate_kinase|1576764..1577309|gi|118467340|ref|NC_008596.1|_Mycobacterium_smegmatis_str._MC2_155_chromosome__complete_genome\n",
      "Buchnera_aphidicola\n",
      "adenylate_kinase|535058..535705|gi|15616630|ref|NC_002528.1|_Buchnera_aphidicola_str._APS__Acyrthosiphon_pisum__chromosome__complete_genome\n",
      "Pectobacterium_atrosepticum\n",
      "adk|1335658..1336302|gi|50118965|ref|NC_004547.2|_Erwinia_carotovora_subsp._atroseptica_SCRI1043__complete_genome\n",
      "Sodalis_glossinidius\n",
      "adk|1168626..1169270|gi|85057978|ref|NC_007712.1|_Sodalis_glossinidius_str._'morsitans'_DNA__complete_genome\n",
      "Yersinia_aleksiciae\n",
      "adk|3186598..3187242|gi|873914341|ref|NZ_CP011975.1|_Yersinia_aleksiciae_strain_159__complete_genome\n",
      "Yersinia_ruckeri\n",
      "adk|3272856..3273500|gi|797166910|ref|NZ_CP011078.1|_Yersinia_ruckeri_strain_Big_Creek_74__complete_genome\n",
      "Pantoea_ananatis\n",
      "adk|426565..427209|gi|1033102847|ref|NC_017531.2|_Pantoea_ananatis_AJ13355_DNA__complete_genome\n",
      "Edwardsiella_ictaluri\n",
      "adk|1120565..1121209|gi|417358931|ref|NC_012779.2|_Edwardsiella_ictaluri_93-146__complete_genome\n",
      "Rhodopirellula_baltica\n",
      "adenylate_kinase|4204183..4204806|gi|32470666|ref|NC_005027.1|_Rhodopirellula_baltica_SH_1_chromosome__complete_genome\n",
      "Clostridium_acetobutylicum\n",
      "adenylate_kinase|3258846..3259493|gi|15893298|ref|NC_003030.1|_Clostridium_acetobutylicum_ATCC_824_chromosome__complete_genome\n",
      "Pectobacterium_carotovorum\n",
      "adk|1266827..1267471|gi|403056439|ref|NC_018525.1|_Pectobacterium_carotovorum_subsp._carotovorum_PCC21__complete_genome\n",
      "Lactococcus_lactis\n",
      "adenylate_kinase|2157280..2157927|gi|15671982|ref|NC_002662.1|_Lactococcus_lactis_subsp._lactis_Il1403_chromosome__complete_genome\n",
      "Citrobacter_rodentium\n",
      "adk|592702..593346|gi|283783779|ref|NC_013716.1|_Citrobacter_rodentium_ICC168__complete_genome\n",
      "Enterococcus_faecalis\n",
      "adenylate_kinase|209234..209884|gi|29374661|ref|NC_004668.1|_Enterococcus_faecalis_V583_chromosome__complete_genome\n",
      "Caulobacter_vibrioides\n",
      "adenylate_kinase/nucleoside-diphosphate_kinase|1442583..1443158|gi|221232939|ref|NC_011916.1|_Caulobacter_crescentus_NA1000__complete_genome\n",
      "Mycobacterium_leprae\n",
      "adenylate_kinase|2220214..2220759|gi|15826865|ref|NC_002677.1|_Mycobacterium_leprae_TN_chromosome__complete_genome\n",
      "Citrobacter_freundii\n",
      "adk|1577888..1578532|gi|983532166|ref|NZ_CP012554.1|_Citrobacter_freundii_strain_P10159__complete_genome\n",
      "Pantoea_agglomerans\n",
      "adk|1272028..1272672|gi|992371344|ref|NZ_CP014129.1|_Pantoea_agglomerans_strain_FDAARGOS_160__complete_genome\n",
      "Thermotoga_maritima\n",
      "adenylate_kinase|1487620..1488282|gi|15642775|ref|NC_000853.1|_Thermotoga_maritima_MSB8_chromosome__complete_genome\n",
      "Pseudomonas_syringae\n",
      "adenylate_kinase|1498072..1498719|gi|66043271|ref|NC_007005.1|_Pseudomonas_syringae_pv._syringae_B728a_chromosome__complete_genome\n",
      "Shigella_dysenteriae\n",
      "adenylate_kinase|435696..436340|gi|82775382|ref|NC_007606.1|_Shigella_dysenteriae_Sd197_chromosome__complete_genome\n"
     ]
    }
   ],
   "source": [
    "fasta_files=glob.glob(\"/Users/alinabazarova/Downloads/data_2/seq/mrna/adk/*\")\n",
    "dict={}\n",
    "i=0\n",
    "#print(fasta_files[i])\n",
    "#os.system(\"\ttr ' ' '_' <\"+fasta_files[i]+\">\"+fasta_files[i].split('.')[0]+'1.fasta')\n",
    "for i in range(len(fasta_files)):\n",
    "    fasta1=fasta_files[i].split('.')[0]+'1.fasta'\n",
    "    fasta2=fasta_files[i].split('.')[0]+'2.fasta'\n",
    "    fasta3=fasta_files[i].split('.')[0]+'3.fasta'\n",
    "    fasta4=fasta_files[i].split('.')[0]+'4.fasta'\n",
    "    os.system(\"\ttr ' ' '_' <\"+fasta_files[i]+\">\"+fasta1)\n",
    "    os.system(\"\ttr ',' '_' <\"+fasta1+\">\"+fasta2)\n",
    "    os.system(\"\ttr ')' '_' <\"+fasta2+\">\"+fasta3)\n",
    "    os.system(\"\ttr '(' '_' <\"+fasta3+\">\"+fasta4)\n",
    "    with open(fasta4) as handle:\n",
    "        #print(record.id)\n",
    "        for record in SeqIO.parse(handle, \"fasta\"):\n",
    "            print(fasta4.split('/')[-1].split('4.')[0])\n",
    "            print(str(record.id))\n",
    "            dict[str(record.id)]=fasta4.split('/')[-1].split('4.')[0]\n",
    "\n",
    "\n",
    "    \n",
    "   "
   ]
  },
  {
   "cell_type": "code",
   "execution_count": 153,
   "id": "f24e4ecf-5e0d-473b-9c25-f179613ca727",
   "metadata": {},
   "outputs": [
    {
     "name": "stdout",
     "output_type": "stream",
     "text": [
      "False\n"
     ]
    },
    {
     "data": {
      "text/plain": [
       "dict_values(['Sinorhizobium_fredii', 'Geobacter_sulfurreducens', 'Bacillus_thuringiensis', 'Proteus_vulgaris', 'Coxiella_burnetii', 'Shewanella_oneidensis', 'Desulfovibrio_vulgaris', 'Streptococcus_sanguinis', 'Haemophilus_influenzae', 'Streptococcus_mutans', 'Lactobacillus_acidophilus', 'Photorhabdus_luminescens', 'Xanthomonas_campestris', 'Neisseria_meningitidis', 'Sinorhizobium_meliloti', 'Bifidobacterium_longum', 'Edwardsiella_tarda', 'Mycobacterium_tuberculosis', 'Treponema_denticola', 'Escherichia_fergusonii', 'Salinibacter_ruber', 'Chlorobaculum_tepidum', 'Mycobacterium_smegmatis', 'Buchnera_aphidicola', 'Pectobacterium_atrosepticum', 'Sodalis_glossinidius', 'Yersinia_aleksiciae', 'Yersinia_ruckeri', 'Pantoea_ananatis', 'Edwardsiella_ictaluri', 'Rhodopirellula_baltica', 'Clostridium_acetobutylicum', 'Pectobacterium_carotovorum', 'Lactococcus_lactis', 'Citrobacter_rodentium', 'Enterococcus_faecalis', 'Caulobacter_vibrioides', 'Mycobacterium_leprae', 'Citrobacter_freundii', 'Pantoea_agglomerans', 'Thermotoga_maritima', 'Pseudomonas_syringae', 'Shigella_dysenteriae'])"
      ]
     },
     "execution_count": 153,
     "metadata": {},
     "output_type": "execute_result"
    }
   ],
   "source": [
    "list(dict.keys())[0]\n",
    "print(names[12]=='adenylate_kinase|535058..535705|gi|15616630|ref|NC_002528.1|_Buchnera_aphidicola_str._APS_(Acyrthosiphon_pisum)_chromosome__complete_genome')\n",
    "dict.values()"
   ]
  },
  {
   "cell_type": "code",
   "execution_count": 164,
   "id": "cc38c202-ce9f-4298-be00-f0b3ceb5d17f",
   "metadata": {},
   "outputs": [
    {
     "name": "stdout",
     "output_type": "stream",
     "text": [
      "adenylate_kinase|2007358..2007918|gi|58036264|ref|NC_004307.2|_Bifidobacterium_longum_NCC2705_chromosome__complete_genome\n",
      "True\n"
     ]
    }
   ],
   "source": [
    "print(names[0])\n",
    "print(str(names[0])=='adenylate_kinase|2007358..2007918|gi|58036264|ref|NC_004307.2|_Bifidobacterium_longum_NCC2705_chromosome__complete_genome')"
   ]
  },
  {
   "cell_type": "code",
   "execution_count": 188,
   "id": "624e930a-b9bf-4e71-a327-164d10676bca",
   "metadata": {},
   "outputs": [
    {
     "name": "stdout",
     "output_type": "stream",
     "text": [
      "Pectobacterium_atrosepticum\n",
      "Pectobacterium_atrosepticum\n"
     ]
    }
   ],
   "source": [
    "print(dict['adk|1335658..1336302|gi|50118965|ref|NC_004547.2|_Erwinia_carotovora_subsp._atroseptica_SCRI1043__complete_genome'])\n",
    "print(dict[names[41]])"
   ]
  },
  {
   "cell_type": "code",
   "execution_count": 196,
   "id": "ca26b2ca-fed5-4151-a429-6a01ffabbd88",
   "metadata": {},
   "outputs": [
    {
     "data": {
      "text/plain": [
       "[42]"
      ]
     },
     "execution_count": 196,
     "metadata": {},
     "output_type": "execute_result"
    }
   ],
   "source": [
    "[j for j in range(len(file_names)) if file_names[j]==dict[str(names[41])]]"
   ]
  },
  {
   "cell_type": "code",
   "execution_count": 195,
   "id": "ec1c98b2-18f4-4ce7-bdca-f41f8a079788",
   "metadata": {},
   "outputs": [
    {
     "data": {
      "text/plain": [
       "True"
      ]
     },
     "execution_count": 195,
     "metadata": {},
     "output_type": "execute_result"
    }
   ],
   "source": [
    "dict[str(names[41])] in file_names"
   ]
  },
  {
   "cell_type": "code",
   "execution_count": 198,
   "id": "4060c587-cb99-4037-97ad-d4373e70faa9",
   "metadata": {},
   "outputs": [
    {
     "data": {
      "text/plain": [
       "43"
      ]
     },
     "execution_count": 198,
     "metadata": {},
     "output_type": "execute_result"
    }
   ],
   "source": [
    "len(file_names)"
   ]
  },
  {
   "cell_type": "code",
   "execution_count": 200,
   "id": "ab7d61a7-9b5f-489c-8731-d0a0a931fc41",
   "metadata": {},
   "outputs": [
    {
     "data": {
      "text/plain": [
       "42"
      ]
     },
     "execution_count": 200,
     "metadata": {},
     "output_type": "execute_result"
    }
   ],
   "source": [
    "len(array_labels)"
   ]
  },
  {
   "cell_type": "code",
   "execution_count": null,
   "id": "c29f8e1b-0bec-46f3-a461-901d6ccc62cb",
   "metadata": {},
   "outputs": [],
   "source": []
  }
 ],
 "metadata": {
  "kernelspec": {
   "display_name": "Python 3 (ipykernel)",
   "language": "python",
   "name": "python3"
  },
  "language_info": {
   "codemirror_mode": {
    "name": "ipython",
    "version": 3
   },
   "file_extension": ".py",
   "mimetype": "text/x-python",
   "name": "python",
   "nbconvert_exporter": "python",
   "pygments_lexer": "ipython3",
   "version": "3.9.12"
  }
 },
 "nbformat": 4,
 "nbformat_minor": 5
}
