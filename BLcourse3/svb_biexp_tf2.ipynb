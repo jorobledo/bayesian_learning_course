{
 "cells": [
  {
   "cell_type": "markdown",
   "metadata": {},
   "source": [
    "Stochastic Variational Bayes - example nonlinear model\n",
    "==============================================\n",
    "\n",
    "This notebook implements stochastic variational Bayes for a nonlinear model. The model we will use is a bi-exponential model, i.e. we will assume our data reflects a time-dependent signal of the following form:\n",
    "\n",
    "$$S_{true}(t) = A_1 e^{-R_1t} + A_2 e^{-R_2t}$$\n",
    "\n",
    "However the actual time dependent signal $S(t)$ will be affected by additive Gaussian noise, so will have the distribution:\n",
    "\n",
    "$$P(S(t)) = \\frac{\\sqrt{\\beta}}{\\sqrt{2\\pi}} \\exp{\\bigg(-\\frac{\\beta}{2} (S(t) - S_{true}(t))^2}\\bigg)$$\n",
    "\n",
    "Given $S(t)$ our aim will be to infer the values of $A_1$, $A_2$, $R_1$, $R_2$ and $\\beta$.\n",
    "\n",
    "Here's how we can generate some sample data from this model in Python:"
   ]
  },
  {
   "cell_type": "code",
   "execution_count": 1,
   "metadata": {
    "tags": [],
    "vscode": {
     "languageId": "python"
    }
   },
   "outputs": [
    {
     "name": "stdout",
     "output_type": "stream",
     "text": [
      "Data samples are:\n",
      "[ 2.19293616e+01  1.73016007e+01  1.58111885e+01  1.39436440e+01\n",
      "  1.20340110e+01  1.12193947e+01  1.09320907e+01  8.79885826e+00\n",
      "  1.05542756e+01  7.72860027e+00  8.71175052e+00  9.53138044e+00\n",
      "  7.59320035e+00  8.64756379e+00  6.79480911e+00  7.16574182e+00\n",
      "  7.15458618e+00  6.13605181e+00  4.74268372e+00  6.70658018e+00\n",
      "  6.88089261e+00  5.37018473e+00  6.14966493e+00  5.91536432e+00\n",
      "  4.41630056e+00  7.06627728e+00  4.22444885e+00  5.30779723e+00\n",
      "  3.43158530e+00  5.64725813e+00  5.53161967e+00  4.43699902e+00\n",
      "  3.83209124e+00  3.45015484e+00  4.44908684e+00  5.32084139e+00\n",
      "  3.77766197e+00  2.30562383e+00  3.94714413e+00  5.55960922e+00\n",
      "  4.80575764e+00  4.25808873e+00  4.82348637e+00  2.99928108e+00\n",
      "  2.26454167e+00  3.28422122e+00  2.93706189e+00  2.42850707e+00\n",
      "  2.94390844e+00  2.41414533e+00  2.51656474e+00  2.73770742e+00\n",
      "  3.80580332e+00  2.45535349e+00  2.47494179e+00  4.71317275e+00\n",
      "  1.69407068e+00  3.03283330e+00  2.80088412e+00  1.69311514e+00\n",
      "  2.63663450e+00  1.59747453e+00  2.59009055e+00  2.98762281e+00\n",
      "  2.47015564e+00  1.44565271e+00  3.11539741e+00  1.62627356e+00\n",
      "  2.64607888e+00  1.77699612e-01  2.59467356e+00  1.90779038e+00\n",
      "  1.69120610e+00  2.67473789e+00 -2.20257597e-01  1.26412976e-01\n",
      "  7.29234855e-01  1.40516023e+00  1.42733903e-01  3.50847608e-01\n",
      "  2.35653910e+00  4.96040218e-01  1.25671629e+00  2.19912199e+00\n",
      "  1.51917499e+00  4.99637490e-01  1.66874176e+00  5.52349014e-03\n",
      "  2.31191769e-01  2.14940520e+00  2.81836463e+00  9.02283089e-01\n",
      " -5.76565503e-01 -4.64472758e-01  3.48567398e+00  2.00791421e+00\n",
      "  1.85761614e+00  8.96694110e-01 -2.74321641e+00  2.84798509e+00\n",
      "  1.05735097e+00  2.35345812e+00  2.20893951e+00  2.54021429e+00\n",
      "  4.02043859e-01  7.91465851e-01 -7.54860914e-01 -2.80401010e-01\n",
      "  1.19873557e+00  1.03775411e+00  1.26983829e-01 -5.66533724e-01\n",
      " -1.22108620e+00 -1.62807504e-01  1.05650656e+00 -2.01575168e-01\n",
      "  1.27663110e+00  7.28288068e-01 -6.22327101e-01 -9.02647126e-01\n",
      "  1.25542303e+00  5.65923643e-01  1.99456949e+00  6.29448193e-01\n",
      "  1.89193394e+00  2.00303970e+00  6.15035962e-01 -1.77815609e+00\n",
      " -2.20439508e-02 -1.30289627e+00 -9.84404020e-01  1.71632463e+00\n",
      " -2.95498178e-01  5.24647016e-01  6.73296212e-01 -7.64559895e-01\n",
      " -2.56308310e+00  2.22119521e-01  3.42891582e-01 -7.21040883e-01\n",
      "  8.66602022e-01  5.41606508e-01  1.12171980e+00  1.58333691e+00\n",
      "  1.51736297e+00  1.94419055e-01  5.53480984e-01 -1.32071391e-01\n",
      " -7.41216636e-01 -6.17827980e-01  7.85838767e-01 -8.06630330e-01\n",
      "  1.35024416e-01  5.26908381e-01  2.79805053e-01  1.34014368e-01\n",
      "  1.74217745e+00 -3.44545366e-01 -2.40025633e-02  9.60159919e-01\n",
      " -6.64450575e-01  1.11680928e+00 -4.20350326e-01  2.05208822e+00\n",
      "  1.41202802e+00  7.48307900e-01  1.08750859e+00  1.44112489e+00\n",
      "  1.61944001e+00  5.75093790e-01 -3.44108794e-01 -1.76149907e+00\n",
      " -4.72652807e-01  7.98934889e-01 -8.03401488e-01 -4.31403707e-01\n",
      "  2.03424406e+00 -1.51513192e+00  7.24919323e-01 -7.54929531e-01\n",
      " -2.58627340e-01  4.86678089e-01 -5.84524261e-01  1.17804825e+00\n",
      "  1.56788501e+00 -1.75748972e-02  8.74821310e-01 -4.77928544e-01\n",
      " -3.62025383e-01 -2.19052805e+00  6.48899147e-01  1.36510531e+00\n",
      " -1.70783744e+00  9.75644021e-01  7.18298717e-01  4.67821525e-01\n",
      " -2.38136912e+00  6.80630283e-01  7.56609793e-01  1.38245730e-01]\n"
     ]
    }
   ],
   "source": [
    "import numpy as np\n",
    "%matplotlib inline\n",
    "# Ground truth parameters\n",
    "# We infer the precision, BETA, but it is useful to\n",
    "# derive the variance and standard deviation from it\n",
    "A1_TRUTH = 10.0\n",
    "A2_TRUTH = 10.0\n",
    "R1_TRUTH = 10.0\n",
    "R2_TRUTH = 1.0\n",
    "BETA_TRUTH = 1.0\n",
    "VAR_TRUTH = 1/BETA_TRUTH\n",
    "STD_TRUTH = np.sqrt(VAR_TRUTH)\n",
    "\n",
    "# Observed data samples are generated by Numpy from the ground truth\n",
    "# Gaussian distribution. Reducing the number of samples should make\n",
    "# the inference less 'confident' - i.e. the output variances for\n",
    "# MU and BETA will increase\n",
    "N = 200\n",
    "T = np.linspace(0, 5, N)\n",
    "\n",
    "\n",
    "DATA_CLEAN = A1_TRUTH * np.exp(-R1_TRUTH * T) + A2_TRUTH * np.exp(-R2_TRUTH*T)\n",
    "DATA = DATA_CLEAN + np.random.normal(0, STD_TRUTH, [N])\n",
    "print(\"Data samples are:\")\n",
    "print(DATA)"
   ]
  },
  {
   "cell_type": "markdown",
   "metadata": {},
   "source": [
    "We can plot this data to illustrate the true signal (green line) and the measured data (red crosses):"
   ]
  },
  {
   "cell_type": "code",
   "execution_count": 2,
   "metadata": {
    "tags": [],
    "vscode": {
     "languageId": "python"
    }
   },
   "outputs": [
    {
     "data": {
      "text/plain": [
       "[<matplotlib.lines.Line2D at 0x1485300a1c30>]"
      ]
     },
     "execution_count": 2,
     "metadata": {},
     "output_type": "execute_result"
    },
    {
     "data": {
      "image/png": "[encoded data removed]",
      "text/plain": [
       "<Figure size 640x480 with 1 Axes>"
      ]
     },
     "metadata": {},
     "output_type": "display_data"
    }
   ],
   "source": [
    "from matplotlib import pyplot as plt\n",
    "plt.figure()\n",
    "plt.plot(DATA, \"rx\")\n",
    "plt.plot(DATA_CLEAN, \"g\")"
   ]
  },
  {
   "cell_type": "markdown",
   "metadata": {},
   "source": [
    "As with the single Gaussian example we will use a multivariate normal distribution as our prior and approximate posterior distributions. \n",
    "\n",
    "One difference here is that we will choose to infer the log of the decay rate parameters $R_1$ and $R_2$. This is because if these parameters are allowed to become negative the model prediction will become an exponential growth and can easily lead to numerical errors.\n",
    "\n",
    "We will still choose our priors to be relatively uninformative as follows:\n"
   ]
  },
  {
   "cell_type": "code",
   "execution_count": 3,
   "metadata": {
    "tags": [],
    "vscode": {
     "languageId": "python"
    }
   },
   "outputs": [
    {
     "name": "stdout",
     "output_type": "stream",
     "text": [
      "Priors: Amplitude mean=1.000000, variance=100000.000000\n",
      "        Log decay rate mean=0.000000, variance=10.000000\n",
      "        Log noise variance mean=0.000000, variance=10.000000\n"
     ]
    }
   ],
   "source": [
    "a0 = 1.0\n",
    "v0 = 100000.0\n",
    "r0 = 0.0\n",
    "u0 = 10.0\n",
    "b0 = 0.0\n",
    "w0 = 10.0\n",
    "print(\"Priors: Amplitude mean=%f, variance=%f\" % (a0, v0))\n",
    "print(\"        Log decay rate mean=%f, variance=%f\" % (r0, u0))\n",
    "print(\"        Log noise variance mean=%f, variance=%f\" % (b0, w0))"
   ]
  },
  {
   "cell_type": "markdown",
   "metadata": {},
   "source": [
    "The posterior will be defined in the same way as for the single Gaussian example, however we need to account for the increased number of parameters we are inferring. We will initialize the posterior with the prior values but with reduced initial variance to prevent problems with generating a representative posterior sample. Remember that the decay rates (and the noise) are being inferred as their log-values so the prior mean of 0 translates into a value of 1.\n",
    "\n",
    "The code to generate a posterior sample is unchanged except for the number of parameters.\n",
    "\n",
    "In calculating the reconstruction cost we need to calculate the log likelihood of the data given a set of model parameters. We do this by observing that any difference between the biexponential model prediction (given these parameters) and the actual noisy data must be a result of the Gaussian noise - hence the likelihood is simply the likelihood of drawing these differences from the Gaussian noise distribution:\n",
    "\n",
    "$$\\log P(\\textbf{y} | A_1; A_2; r_1; r_2; \\beta) = \\frac{1}{2} \\bigg( N \\log \\beta - \\sum{\\frac{(y_n - M_n)^2}{\\beta}}\\bigg)$$\n",
    "\n",
    "Here $M_n$ is the model prediction for the nth data point which is calculated by evaluating the biexponential model for the given parameters $A_1$, $A_2$, $r_1$ and $r_2$.\n",
    "\n",
    "For the latent loss we will again use the analytic expression for the K-L divergence of two MVN distributions with a slight modification to the previous code to account for the different number of parameters (5 vs 2)"
   ]
  },
  {
   "cell_type": "code",
   "execution_count": 4,
   "metadata": {
    "tags": [],
    "vscode": {
     "languageId": "python"
    }
   },
   "outputs": [
    {
     "name": "stderr",
     "output_type": "stream",
     "text": [
      "2024-03-17 11:25:18.930125: I tensorflow/core/common_runtime/gpu/gpu_device.cc:1613] Created device /job:localhost/replica:0/task:0/device:GPU:0 with 14789 MB memory:  -> device: 0, name: Tesla V100-PCIE-16GB, pci bus id: 0000:01:00.0, compute capability: 7.0\n"
     ]
    }
   ],
   "source": [
    "import tensorflow as tf\n",
    "\n",
    "# Number of parameters - 4 for the biexponential + noise\n",
    "NUM_PARAMS = 4 + 1\n",
    "\n",
    "data = tf.constant(DATA, dtype=tf.float32)\n",
    "prior_means = tf.constant([a0, r0, a0, r0, b0], dtype=tf.float32)\n",
    "prior_covariance = tf.linalg.diag(tf.constant([v0, u0, v0, u0, w0], dtype=tf.float32))\n",
    "\n",
    "post_means_init = prior_means\n",
    "post_covariance_init = np.identity(NUM_PARAMS, dtype=np.float32)\n",
    "\n",
    "chol_off_diag = tf.Variable(np.zeros(post_covariance_init.shape), dtype=tf.float32)\n",
    "# Comment in this line if you do NOT want to infer parameter covariances\n",
    "#chol_off_diag = tf.constant([[0, 0], [0, 0]], dtype=tf.float32)\n",
    "chol_log_diag = tf.Variable(tf.math.log(tf.linalg.diag_part(post_covariance_init)), dtype=tf.float32)\n",
    "\n",
    "post_means = tf.Variable(post_means_init, dtype=tf.float32)\n",
    "\n",
    "t = tf.reshape(tf.constant(T, dtype=tf.float32), [1, -1])\n",
    "\n",
    "\n",
    "\n",
    "def cost_fun():\n",
    "\n",
    "    chol_diag = tf.linalg.diag(tf.math.sqrt(tf.math.exp(chol_log_diag)))\n",
    "    post_covariance_chol = tf.math.add(chol_diag, tf.linalg.band_part(chol_off_diag, -1, 0))\n",
    "\n",
    "    post_covariance = tf.matmul(tf.transpose(post_covariance_chol), post_covariance_chol)\n",
    "\n",
    "    S=5\n",
    "    N=200\n",
    "\n",
    "# eps is a sample from a Gaussian with mean 0 and variance 1\n",
    "    eps = tf.random.normal((NUM_PARAMS, S), 0, 1, dtype=tf.float32)\n",
    "\n",
    "# Start off each sample with the current posterior mean\n",
    "# post_samples is now a tensor of shape [NUM_PARAMS, n_samples]\n",
    "    samples = tf.tile(tf.reshape(post_means, [NUM_PARAMS, 1]), [1, S])\n",
    "\n",
    "# Now add the random sample scaled by the covariance\n",
    "    post_samples = tf.add(samples, tf.matmul(post_covariance_chol, eps))\n",
    "\n",
    "    a1 = tf.reshape(post_samples[0], [-1, 1])\n",
    "    r1 = tf.math.exp(tf.reshape(post_samples[1], [-1, 1]))\n",
    "    a2 = tf.reshape(post_samples[2], [-1, 1])\n",
    "    r2 = tf.math.exp(tf.reshape(post_samples[3], [-1, 1]))\n",
    "\n",
    "# Get the current estimate of the noise variance remembering that\n",
    "# we are inferring the log of the noise precision, beta\n",
    "    log_noise_var = -post_samples[4]\n",
    "    noise_var = tf.math.exp(log_noise_var)\n",
    "\n",
    "# Each sample value predicts the full set of values in the data sample.\n",
    "# For our constant-signal model, the prediction is simply a set of \n",
    "# constant values. The prediction tensor will have shape [S, N]\n",
    "# where S is the sample size and N is the number of data values\n",
    "    \n",
    "\n",
    "    prediction = a1*tf.math.exp(-r1*t) + a2*tf.exp(-r2*t)\n",
    "    diff = tf.reshape(data, [1, -1]) - prediction\n",
    "\n",
    "# To calculate the likelihood we need the sum of the squared difference between the data  \n",
    "# and the prediction. This gives a value for each posterior sample so has shape [S]\n",
    "    sum_square_diff = tf.reduce_sum(tf.math.square(diff), axis=1)\n",
    "\n",
    "# Now we calculate the likelihood for each posterior sample (shape [S])\n",
    "# Note that we are ignoring constant factors such as 2*PI here as they \n",
    "# are just an fixed offset and do not affect the optimization \n",
    "    log_likelihood = 0.5 * (-log_noise_var * tf.cast(N,dtype=tf.float32) - sum_square_diff / noise_var)\n",
    "\n",
    "# Finally to evaluate the expectation value we take the mean across all the posterior\n",
    "# samples. The negative of this is the reconstruction loss\n",
    "    reconstr_loss = -tf.reduce_mean(log_likelihood)\n",
    "\n",
    "    C = post_covariance\n",
    "    C0 = prior_covariance\n",
    "    #print(\"is this the problem? 1\")\n",
    "    #print(tf.linalg.det(C0))\n",
    "    C0_inv = tf.linalg.inv(C0)\n",
    "    #print(\"is this the problem? 2\")\n",
    "\n",
    "# m - m0 as row and column vectors\n",
    "    m_minus_m0 = tf.reshape(tf.subtract(post_means, prior_means), [-1, 1])\n",
    "    m_minus_m0_T = tf.reshape(tf.subtract(post_means, prior_means), [1, -1])\n",
    "\n",
    "    term1 = tf.linalg.trace(tf.matmul(C0_inv, C))\n",
    "    term2 = -tf.math.log(tf.linalg.det(C) / tf.linalg.det(C0))\n",
    "\n",
    "# Size of the MVN distribution\n",
    "    term3 = -NUM_PARAMS\n",
    "    term4 = tf.matmul(tf.matmul(m_minus_m0_T, C0_inv), m_minus_m0)\n",
    "          \n",
    "    latent_loss = 0.5 * (term1 + term2 + term3 + term4)\n",
    "\n",
    "    #cost = reconstr_loss + latent_loss\n",
    "    cost=reconstr_loss\n",
    "\n",
    "    return cost\n",
    "\n",
    "\n"
   ]
  },
  {
   "cell_type": "markdown",
   "metadata": {},
   "source": [
    "Finally we ask TensorFlow to minimise the total cost iteratively:"
   ]
  },
  {
   "cell_type": "code",
   "execution_count": 5,
   "metadata": {
    "tags": [],
    "vscode": {
     "languageId": "python"
    }
   },
   "outputs": [
    {
     "data": {
      "application/vnd.jupyter.widget-view+json": {
       "model_id": "79cd7d27a48c4603a1086ba0df3624d0",
       "version_major": 2,
       "version_minor": 0
      },
      "text/plain": [
       "Epoch::   0%|          | 0/5000 [00:00<?, ?it/s]"
      ]
     },
     "metadata": {},
     "output_type": "display_data"
    },
    {
     "name": "stderr",
     "output_type": "stream",
     "text": [
      "2024-03-17 11:27:11.607029: I tensorflow/core/util/cuda_solvers.cc:179] Creating GpuSolver handles for stream 0x825c910\n",
      "2024-03-17 11:27:11.728809: I tensorflow/compiler/xla/service/service.cc:173] XLA service 0x593ee340 initialized for platform CUDA (this does not guarantee that XLA will be used). Devices:\n",
      "2024-03-17 11:27:11.728853: I tensorflow/compiler/xla/service/service.cc:181]   StreamExecutor device (0): Tesla V100-PCIE-16GB, Compute Capability 7.0\n",
      "2024-03-17 11:27:11.734050: I tensorflow/compiler/mlir/tensorflow/utils/dump_mlir_util.cc:268] disabling MLIR crash reproducer, set env var `MLIR_CRASH_REPRODUCER_DIRECTORY` to enable.\n",
      "2024-03-17 11:27:11.953188: I tensorflow/compiler/jit/xla_compilation_cache.cc:477] Compiled cluster using XLA!  This line is logged at most once for the lifetime of the process.\n"
     ]
    }
   ],
   "source": [
    "optimizer = tf.keras.optimizers.Adam(learning_rate=0.02)\n",
    "#minimizer = optimizer.minimize(cost)\n",
    "#sess.run(tf.global_variables_initializer())\n",
    "from tqdm.notebook import tqdm_notebook\n",
    "\n",
    "cost_history = []\n",
    "for epoch in tqdm_notebook(range(5000), desc=\"Epoch:\"):\n",
    "    #sess.run(minimizer)\n",
    "\n",
    "    optimizer.minimize(cost_fun,var_list=[chol_off_diag,chol_log_diag,post_means])\n",
    "    #print(float(cost_fun()))\n",
    "    cost_history.append(float(cost_fun()))\n",
    "    #print(\"Epoch %i: posterior means=%s\" % (epoch+1, post_means))"
   ]
  },
  {
   "cell_type": "code",
   "execution_count": 6,
   "metadata": {
    "tags": [],
    "vscode": {
     "languageId": "python"
    }
   },
   "outputs": [
    {
     "name": "stdout",
     "output_type": "stream",
     "text": [
      "Estimate for amp1: 10.302241 (variance: 0.000000)\n",
      "Estimate for amp2: 11.180945 (variance: 0.000000)\n",
      "Estimate for r1: 1.014429\n",
      "Estimate for r2: 12.958709\n",
      "Estimate for beta (noise): 1.068189\n"
     ]
    }
   ],
   "source": [
    "final_means = post_means\n",
    "\n",
    "chol_diag = tf.linalg.diag(tf.math.sqrt(tf.math.exp(chol_log_diag)))\n",
    "post_covariance_chol = tf.add(chol_diag, tf.linalg.band_part(chol_off_diag, -1, 0))\n",
    "\n",
    "post_covariance = tf.matmul(tf.transpose(post_covariance_chol), post_covariance_chol)\n",
    "\n",
    "final_covariance = post_covariance\n",
    "print(\"Estimate for amp1: %f (variance: %f)\" % (final_means[0], final_covariance[0, 0]))\n",
    "print(\"Estimate for amp2: %f (variance: %f)\" % (final_means[2], final_covariance[0, 0]))\n",
    "print(\"Estimate for r1: %f\" % (np.exp(final_means[1]),))\n",
    "print(\"Estimate for r2: %f\" % (np.exp(final_means[3]),))\n",
    "print(\"Estimate for beta (noise): %f\" % np.exp(-final_means[4]))"
   ]
  },
  {
   "cell_type": "code",
   "execution_count": 7,
   "metadata": {
    "tags": [],
    "vscode": {
     "languageId": "python"
    }
   },
   "outputs": [
    {
     "data": {
      "image/png": "[encoded data removed]",
      "text/plain": [
       "<Figure size 640x480 with 1 Axes>"
      ]
     },
     "metadata": {},
     "output_type": "display_data"
    },
    {
     "data": {
      "image/png": "[encoded data removed]",
      "text/plain": [
       "<Figure size 640x480 with 1 Axes>"
      ]
     },
     "metadata": {},
     "output_type": "display_data"
    }
   ],
   "source": [
    "plt.figure()\n",
    "plt.plot(cost_history)\n",
    "plt.ylim(0, 500)\n",
    "\n",
    "plt.figure()\n",
    "plt.plot(DATA_CLEAN, 'g')\n",
    "plt.plot(DATA, 'rx')\n",
    "S=5\n",
    "eps = tf.random.normal((NUM_PARAMS, S), 0, 1, dtype=tf.float32)\n",
    "\n",
    "samples = tf.tile(tf.reshape(post_means, [NUM_PARAMS, 1]), [1, S])\n",
    "\n",
    "# Now add the random sample scaled by the covariance\n",
    "post_samples = tf.add(samples, tf.matmul(post_covariance_chol, eps))\n",
    "\n",
    "a1 = tf.reshape(post_samples[0], [-1, 1])\n",
    "r1 = tf.math.exp(tf.reshape(post_samples[1], [-1, 1]))\n",
    "a2 = tf.reshape(post_samples[2], [-1, 1])\n",
    "r2 = tf.math.exp(tf.reshape(post_samples[3], [-1, 1]))\n",
    "\n",
    "# Get the current estimate of the noise variance remembering that\n",
    "# we are inferring the log of the noise precision, beta\n",
    "log_noise_var = -post_samples[4]\n",
    "noise_var = tf.math.exp(log_noise_var)\n",
    "\n",
    "# Each sample value predicts the full set of values in the data sample.\n",
    "# For our constant-signal model, the prediction is simply a set of \n",
    "# constant values. The prediction tensor will have shape [S, N]\n",
    "# where S is the sample size and N is the number of data values\n",
    "t = tf.reshape(tf.constant(T, dtype=tf.float32), [1, -1])\n",
    "prediction = a1*tf.math.exp(-r1*t) + a2*tf.exp(-r2*t)\n",
    "\n",
    "plt.plot(prediction[0], 'b')\n",
    "plt.show()"
   ]
  },
  {
   "cell_type": "code",
   "execution_count": null,
   "metadata": {
    "vscode": {
     "languageId": "python"
    }
   },
   "outputs": [],
   "source": []
  },
  {
   "cell_type": "code",
   "execution_count": null,
   "metadata": {},
   "outputs": [],
   "source": []
  }
 ],
 "metadata": {
  "kernelspec": {
   "display_name": "sc_venv_tf",
   "language": "python",
   "name": "sc_venv_tf"
  },
  "language_info": {
   "codemirror_mode": {
    "name": "ipython",
    "version": 3
   },
   "file_extension": ".py",
   "mimetype": "text/x-python",
   "name": "python",
   "nbconvert_exporter": "python",
   "pygments_lexer": "ipython3",
   "version": "3.10.4"
  },
  "vscode": {
   "interpreter": {
    "hash": "31f2aee4e71d21fbe5cf8b01ff0e069b9275f58929596ceb00d14d90e3e16cd6"
   }
  }
 },
 "nbformat": 4,
 "nbformat_minor": 4
}
