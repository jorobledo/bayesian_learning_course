{
 "cells": [
  {
   "cell_type": "markdown",
   "metadata": {},
   "source": [
    "Stochastic Variational Bayes - example nonlinear model\n",
    "==============================================\n",
    "\n",
    "This notebook implements stochastic variational Bayes for a nonlinear model. The model we will use is a bi-exponential model, i.e. we will assume our data reflects a time-dependent signal of the following form:\n",
    "\n",
    "$$S_{true}(t) = A_1 e^{-R_1t} + A_2 e^{-R_2t}$$\n",
    "\n",
    "However the actual time dependent signal $S(t)$ will be affected by additive Gaussian noise, so will have the distribution:\n",
    "\n",
    "$$P(S(t)) = \\frac{\\sqrt{\\beta}}{\\sqrt{2\\pi}} \\exp{\\bigg(-\\frac{\\beta}{2} (S(t) - S_{true}(t))^2}\\bigg)$$\n",
    "\n",
    "Given $S(t)$ our aim will be to infer the values of $A_1$, $A_2$, $R_1$, $R_2$ and $\\beta$.\n",
    "\n",
    "Here's how we can generate some sample data from this model in Python:"
   ]
  },
  {
   "cell_type": "code",
   "execution_count": 1,
   "metadata": {
    "tags": [],
    "vscode": {
     "languageId": "python"
    }
   },
   "outputs": [
    {
     "name": "stdout",
     "output_type": "stream",
     "text": [
      "Data samples are:\n",
      "[ 2.00099191e+01  1.77389216e+01  1.62456501e+01  1.30269010e+01\n",
      "  1.26884278e+01  1.19758839e+01  1.18828587e+01  9.48458759e+00\n",
      "  9.31301181e+00  9.65968125e+00  1.02288379e+01  1.04097670e+01\n",
      "  8.42025656e+00  8.35569185e+00  6.17128886e+00  5.87379570e+00\n",
      "  6.83130342e+00  7.54350595e+00  5.25222614e+00  5.28828218e+00\n",
      "  4.45312142e+00  5.68195779e+00  4.61635341e+00  5.71426223e+00\n",
      "  5.42397360e+00  5.68060286e+00  5.80064468e+00  4.77226313e+00\n",
      "  5.59815111e+00  4.52095266e+00  4.98672408e+00  5.37827173e+00\n",
      "  4.98513102e+00  5.28880487e+00  2.77836317e+00  3.74165188e+00\n",
      "  4.48509262e+00  4.42083785e+00  4.34612531e+00  4.30485299e+00\n",
      "  4.10691759e+00  4.39384190e+00  5.02808022e+00  2.32354399e+00\n",
      "  2.00226443e+00  3.98634188e+00  2.78557280e+00  1.13292121e+00\n",
      "  3.00084494e+00  3.80791711e+00  1.74290324e+00  4.17329366e+00\n",
      "  2.40026674e+00  1.97416224e+00  1.47782684e+00  2.66517782e+00\n",
      "  3.50820152e-01  2.18113989e+00  3.47185194e+00  3.10750610e+00\n",
      "  2.12580439e-02  1.53902143e+00  3.03295823e-01  1.41733302e+00\n",
      "  1.08908970e+00  3.30419786e+00  9.38756837e-01  1.96186117e+00\n",
      "  1.92963688e+00  1.83636595e+00  3.40159919e+00  9.36682994e-01\n",
      "  2.16350417e+00  2.20725334e+00  3.06265434e+00  1.45252317e+00\n",
      "  6.65727081e-01  1.13631286e+00  1.39490083e+00  5.40691252e-01\n",
      "  2.05137510e+00  8.47627918e-01  3.13184980e+00  1.27090046e+00\n",
      "  8.13198899e-01  1.26876451e+00  1.40919362e+00  7.68588147e-01\n",
      " -6.07039429e-01  1.45057853e+00  1.04848188e+00  3.27552278e+00\n",
      "  1.57013617e+00  8.85485679e-01  1.45097350e+00  3.71334735e+00\n",
      "  3.40076673e+00  8.07816812e-01  1.03931187e+00  1.94872152e+00\n",
      " -3.02585055e-01 -1.98908277e-02  1.45633620e+00 -4.55178948e-01\n",
      "  1.66784454e-01  7.77655434e-01  1.39796506e+00  2.77576439e+00\n",
      "  1.72721652e-01  5.65664498e-01  1.30848649e+00 -8.08436436e-01\n",
      " -2.72673065e-01  1.94480214e-01  2.27233770e+00  1.40736203e-01\n",
      "  9.89349899e-01 -1.85646238e-01  3.34505577e-01  1.02564839e+00\n",
      "  4.85956416e-01  3.42710248e-01  7.47512722e-01  2.13674376e+00\n",
      "  5.95791708e-01 -9.38795259e-01  2.84760407e-01  1.07732225e+00\n",
      " -9.86119629e-02  5.56014402e-01  1.55484985e+00  4.53868168e-01\n",
      " -5.21766654e-01 -5.42764533e-03  1.29561916e+00  1.39044537e+00\n",
      " -1.35146517e+00  7.18771426e-01  3.28882206e-01 -2.90488796e-01\n",
      " -4.69174963e-01  1.64742021e+00  1.98534736e-01  2.17117608e+00\n",
      "  1.08304548e+00 -4.71992118e-01  1.11817879e+00  1.01716302e+00\n",
      "  1.41485039e+00 -2.68063101e-01  8.45574888e-01  1.31897274e+00\n",
      "  1.37817357e-01  2.66229034e-01  2.01507209e+00 -1.16267742e+00\n",
      "  1.22446664e+00  2.81393511e-01 -2.31758842e+00 -1.68511499e-01\n",
      " -4.63580427e-01 -9.92228960e-01  7.22021316e-01  1.22357793e+00\n",
      " -1.01739014e+00  1.74469012e+00 -1.55991453e+00  8.91657719e-03\n",
      " -1.48226705e+00  2.03270560e+00 -2.35228173e-01 -3.60568535e-01\n",
      "  1.47139063e+00 -5.22517692e-01  1.28396168e+00  3.99444555e-01\n",
      "  3.01670460e-01  2.96607563e-02 -3.36709357e-01 -3.82133072e-01\n",
      "  4.71971950e-01 -2.48279342e+00 -2.26388633e-01  1.24299569e-01\n",
      "  9.49378692e-01 -3.05394731e-01  6.78096999e-01  6.61921803e-01\n",
      "  5.34264333e-01 -8.46436031e-02  1.01063207e+00 -4.05521497e-01\n",
      " -1.04804550e+00 -1.23853802e+00  1.38825316e+00 -9.38433194e-01\n",
      "  1.25654958e+00  6.94942635e-01 -7.46091236e-02  2.76844508e-01]\n"
     ]
    }
   ],
   "source": [
    "import numpy as np\n",
    "%matplotlib inline\n",
    "# Ground truth parameters\n",
    "# We infer the precision, BETA, but it is useful to\n",
    "# derive the variance and standard deviation from it\n",
    "A1_TRUTH = 10.0\n",
    "A2_TRUTH = 10.0\n",
    "R1_TRUTH = 10.0\n",
    "R2_TRUTH = 1.0\n",
    "BETA_TRUTH = 1.0\n",
    "VAR_TRUTH = 1/BETA_TRUTH\n",
    "STD_TRUTH = np.sqrt(VAR_TRUTH)\n",
    "\n",
    "# Observed data samples are generated by Numpy from the ground truth\n",
    "# Gaussian distribution. Reducing the number of samples should make\n",
    "# the inference less 'confident' - i.e. the output variances for\n",
    "# MU and BETA will increase\n",
    "N = 200\n",
    "T = np.linspace(0, 5, N)\n",
    "\n",
    "\n",
    "DATA_CLEAN = A1_TRUTH * np.exp(-R1_TRUTH * T) + A2_TRUTH * np.exp(-R2_TRUTH*T)\n",
    "DATA = DATA_CLEAN + np.random.normal(0, STD_TRUTH, [N])\n",
    "print(\"Data samples are:\")\n",
    "print(DATA)"
   ]
  },
  {
   "cell_type": "markdown",
   "metadata": {},
   "source": [
    "We can plot this data to illustrate the true signal (green line) and the measured data (red crosses):"
   ]
  },
  {
   "cell_type": "code",
   "execution_count": 2,
   "metadata": {
    "tags": [],
    "vscode": {
     "languageId": "python"
    }
   },
   "outputs": [
    {
     "data": {
      "text/plain": [
       "[<matplotlib.lines.Line2D at 0x15454ff11ae0>]"
      ]
     },
     "execution_count": 2,
     "metadata": {},
     "output_type": "execute_result"
    },
    {
     "data": {
      "image/png": "[encoded data removed]",
      "text/plain": [
       "<Figure size 640x480 with 1 Axes>"
      ]
     },
     "metadata": {},
     "output_type": "display_data"
    }
   ],
   "source": [
    "from matplotlib import pyplot as plt\n",
    "plt.figure()\n",
    "plt.plot(DATA, \"rx\")\n",
    "plt.plot(DATA_CLEAN, \"g\")"
   ]
  },
  {
   "cell_type": "markdown",
   "metadata": {},
   "source": [
    "As with the single Gaussian example we will use a multivariate normal distribution as our prior and approximate posterior distributions. \n",
    "\n",
    "One difference here is that we will choose to infer the log of the decay rate parameters $R_1$ and $R_2$. This is because if these parameters are allowed to become negative the model prediction will become an exponential growth and can easily lead to numerical errors.\n",
    "\n",
    "We will still choose our priors to be relatively uninformative as follows:\n"
   ]
  },
  {
   "cell_type": "code",
   "execution_count": 3,
   "metadata": {
    "tags": [],
    "vscode": {
     "languageId": "python"
    }
   },
   "outputs": [
    {
     "name": "stdout",
     "output_type": "stream",
     "text": [
      "Priors: Amplitude mean=1.000000, variance=100000.000000\n",
      "        Log decay rate mean=0.000000, variance=10.000000\n",
      "        Log noise variance mean=0.000000, variance=10.000000\n"
     ]
    }
   ],
   "source": [
    "a0 = 1.0\n",
    "v0 = 100000.0\n",
    "r0 = 0.0\n",
    "u0 = 10.0\n",
    "b0 = 0.0\n",
    "w0 = 10.0\n",
    "print(\"Priors: Amplitude mean=%f, variance=%f\" % (a0, v0))\n",
    "print(\"        Log decay rate mean=%f, variance=%f\" % (r0, u0))\n",
    "print(\"        Log noise variance mean=%f, variance=%f\" % (b0, w0))"
   ]
  },
  {
   "cell_type": "markdown",
   "metadata": {},
   "source": [
    "The posterior will be defined in the same way as for the single Gaussian example, however we need to account for the increased number of parameters we are inferring. We will initialize the posterior with the prior values but with reduced initial variance to prevent problems with generating a representative posterior sample. Remember that the decay rates (and the noise) are being inferred as their log-values so the prior mean of 0 translates into a value of 1.\n",
    "\n",
    "The code to generate a posterior sample is unchanged except for the number of parameters.\n",
    "\n",
    "In calculating the reconstruction cost we need to calculate the log likelihood of the data given a set of model parameters. We do this by observing that any difference between the biexponential model prediction (given these parameters) and the actual noisy data must be a result of the Gaussian noise - hence the likelihood is simply the likelihood of drawing these differences from the Gaussian noise distribution:\n",
    "\n",
    "$$\\log P(\\textbf{y} | A_1; A_2; r_1; r_2; \\beta) = \\frac{1}{2} \\bigg( N \\log \\beta - \\sum{\\frac{(y_n - M_n)^2}{\\beta}}\\bigg)$$\n",
    "\n",
    "Here $M_n$ is the model prediction for the nth data point which is calculated by evaluating the biexponential model for the given parameters $A_1$, $A_2$, $r_1$ and $r_2$.\n",
    "\n",
    "For the latent loss we will again use the analytic expression for the K-L divergence of two MVN distributions with a slight modification to the previous code to account for the different number of parameters (5 vs 2)"
   ]
  },
  {
   "cell_type": "code",
   "execution_count": 4,
   "metadata": {
    "tags": [],
    "vscode": {
     "languageId": "python"
    }
   },
   "outputs": [
    {
     "name": "stderr",
     "output_type": "stream",
     "text": [
      "2024-02-28 18:12:17.431344: I tensorflow/core/common_runtime/gpu/gpu_device.cc:1613] Created device /job:localhost/replica:0/task:0/device:GPU:0 with 14789 MB memory:  -> device: 0, name: Tesla V100-PCIE-16GB, pci bus id: 0000:01:00.0, compute capability: 7.0\n"
     ]
    }
   ],
   "source": [
    "import tensorflow as tf\n",
    "\n",
    "# Number of parameters - 4 for the biexponential + noise\n",
    "NUM_PARAMS = 4 + 1\n",
    "\n",
    "data = tf.constant(DATA, dtype=tf.float32)\n",
    "prior_means = tf.constant([a0, r0, a0, r0, b0], dtype=tf.float32)\n",
    "prior_covariance = tf.linalg.diag(tf.constant([v0, u0, v0, u0, w0], dtype=tf.float32))\n",
    "\n",
    "post_means_init = prior_means\n",
    "post_covariance_init = np.identity(NUM_PARAMS, dtype=np.float32)\n",
    "\n",
    "chol_off_diag = tf.Variable(np.zeros(post_covariance_init.shape), dtype=tf.float32)\n",
    "# Comment in this line if you do NOT want to infer parameter covariances\n",
    "#chol_off_diag = tf.constant([[0, 0], [0, 0]], dtype=tf.float32)\n",
    "chol_log_diag = tf.Variable(tf.math.log(tf.linalg.diag_part(post_covariance_init)), dtype=tf.float32)\n",
    "\n",
    "post_means = tf.Variable(post_means_init, dtype=tf.float32)\n",
    "\n",
    "t = tf.reshape(tf.constant(T, dtype=tf.float32), [1, -1])\n",
    "\n",
    "\n",
    "\n",
    "def cost_fun():\n",
    "\n",
    "    chol_diag = tf.linalg.diag(tf.math.sqrt(tf.math.exp(chol_log_diag)))\n",
    "    post_covariance_chol = tf.math.add(chol_diag, tf.linalg.band_part(chol_off_diag, -1, 0))\n",
    "\n",
    "    post_covariance = tf.matmul(tf.transpose(post_covariance_chol), post_covariance_chol)\n",
    "\n",
    "    S=5\n",
    "    N=200\n",
    "\n",
    "# eps is a sample from a Gaussian with mean 0 and variance 1\n",
    "    eps = tf.random.normal((NUM_PARAMS, S), 0, 1, dtype=tf.float32)\n",
    "\n",
    "# Start off each sample with the current posterior mean\n",
    "# post_samples is now a tensor of shape [NUM_PARAMS, n_samples]\n",
    "    samples = tf.tile(tf.reshape(post_means, [NUM_PARAMS, 1]), [1, S])\n",
    "\n",
    "# Now add the random sample scaled by the covariance\n",
    "    post_samples = tf.add(samples, tf.matmul(post_covariance_chol, eps))\n",
    "\n",
    "    a1 = tf.reshape(post_samples[0], [-1, 1])\n",
    "    r1 = tf.math.exp(tf.reshape(post_samples[1], [-1, 1]))\n",
    "    a2 = tf.reshape(post_samples[2], [-1, 1])\n",
    "    r2 = tf.math.exp(tf.reshape(post_samples[3], [-1, 1]))\n",
    "\n",
    "# Get the current estimate of the noise variance remembering that\n",
    "# we are inferring the log of the noise precision, beta\n",
    "    log_noise_var = -post_samples[4]\n",
    "    noise_var = tf.math.exp(log_noise_var)\n",
    "\n",
    "# Each sample value predicts the full set of values in the data sample.\n",
    "# For our constant-signal model, the prediction is simply a set of \n",
    "# constant values. The prediction tensor will have shape [S, N]\n",
    "# where S is the sample size and N is the number of data values\n",
    "    \n",
    "\n",
    "    prediction = a1*tf.math.exp(-r1*t) + a2*tf.exp(-r2*t)\n",
    "    diff = tf.reshape(data, [1, -1]) - prediction\n",
    "\n",
    "# To calculate the likelihood we need the sum of the squared difference between the data  \n",
    "# and the prediction. This gives a value for each posterior sample so has shape [S]\n",
    "    sum_square_diff = tf.reduce_sum(tf.math.square(diff), axis=1)\n",
    "\n",
    "# Now we calculate the likelihood for each posterior sample (shape [S])\n",
    "# Note that we are ignoring constant factors such as 2*PI here as they \n",
    "# are just an fixed offset and do not affect the optimization \n",
    "    log_likelihood = 0.5 * (-log_noise_var * tf.cast(N,dtype=tf.float32) - sum_square_diff / noise_var)\n",
    "\n",
    "# Finally to evaluate the expectation value we take the mean across all the posterior\n",
    "# samples. The negative of this is the reconstruction loss\n",
    "    reconstr_loss = -tf.reduce_mean(log_likelihood)\n",
    "\n",
    "    C = post_covariance\n",
    "    C0 = prior_covariance\n",
    "    #print(\"is this the problem? 1\")\n",
    "    #print(tf.linalg.det(C0))\n",
    "    C0_inv = tf.linalg.inv(C0)\n",
    "    #print(\"is this the problem? 2\")\n",
    "\n",
    "# m - m0 as row and column vectors\n",
    "    m_minus_m0 = tf.reshape(tf.subtract(post_means, prior_means), [-1, 1])\n",
    "    m_minus_m0_T = tf.reshape(tf.subtract(post_means, prior_means), [1, -1])\n",
    "\n",
    "    term1 = tf.linalg.trace(tf.matmul(C0_inv, C))\n",
    "    term2 = -tf.math.log(tf.linalg.det(C) / tf.linalg.det(C0))\n",
    "\n",
    "# Size of the MVN distribution\n",
    "    term3 = -NUM_PARAMS\n",
    "    term4 = tf.matmul(tf.matmul(m_minus_m0_T, C0_inv), m_minus_m0)\n",
    "          \n",
    "    latent_loss = 0.5 * (term1 + term2 + term3 + term4)\n",
    "\n",
    "    #cost = reconstr_loss + latent_loss\n",
    "    cost=reconstr_loss\n",
    "\n",
    "    return cost\n",
    "\n",
    "\n"
   ]
  },
  {
   "cell_type": "markdown",
   "metadata": {},
   "source": [
    "Finally we ask TensorFlow to minimise the total cost iteratively:"
   ]
  },
  {
   "cell_type": "code",
   "execution_count": 5,
   "metadata": {
    "tags": [],
    "vscode": {
     "languageId": "python"
    }
   },
   "outputs": [
    {
     "data": {
      "application/vnd.jupyter.widget-view+json": {
       "model_id": "1e62119343b04dab8aa70aea379135ad",
       "version_major": 2,
       "version_minor": 0
      },
      "text/plain": [
       "Epoch::   0%|          | 0/5000 [00:00<?, ?it/s]"
      ]
     },
     "metadata": {},
     "output_type": "display_data"
    },
    {
     "name": "stderr",
     "output_type": "stream",
     "text": [
      "2024-02-28 18:12:26.231680: I tensorflow/core/util/cuda_solvers.cc:179] Creating GpuSolver handles for stream 0x8cfa560\n",
      "2024-02-28 18:12:28.406875: I tensorflow/compiler/xla/service/service.cc:173] XLA service 0x59e8ad90 initialized for platform CUDA (this does not guarantee that XLA will be used). Devices:\n",
      "2024-02-28 18:12:28.406914: I tensorflow/compiler/xla/service/service.cc:181]   StreamExecutor device (0): Tesla V100-PCIE-16GB, Compute Capability 7.0\n",
      "2024-02-28 18:12:28.413021: I tensorflow/compiler/mlir/tensorflow/utils/dump_mlir_util.cc:268] disabling MLIR crash reproducer, set env var `MLIR_CRASH_REPRODUCER_DIRECTORY` to enable.\n",
      "2024-02-28 18:12:28.631696: I tensorflow/compiler/jit/xla_compilation_cache.cc:477] Compiled cluster using XLA!  This line is logged at most once for the lifetime of the process.\n"
     ]
    }
   ],
   "source": [
    "optimizer = tf.keras.optimizers.Adam(learning_rate=0.02)\n",
    "#minimizer = optimizer.minimize(cost)\n",
    "#sess.run(tf.global_variables_initializer())\n",
    "from tqdm.notebook import tqdm_notebook\n",
    "\n",
    "cost_history = []\n",
    "for epoch in tqdm_notebook(range(5000), desc=\"Epoch:\"):\n",
    "    #sess.run(minimizer)\n",
    "\n",
    "    optimizer.minimize(cost_fun,var_list=[chol_off_diag,chol_log_diag,post_means])\n",
    "    #print(float(cost_fun()))\n",
    "    cost_history.append(float(cost_fun()))\n",
    "    #print(\"Epoch %i: posterior means=%s\" % (epoch+1, post_means))"
   ]
  },
  {
   "cell_type": "code",
   "execution_count": 8,
   "metadata": {
    "vscode": {
     "languageId": "python"
    }
   },
   "outputs": [
    {
     "name": "stdout",
     "output_type": "stream",
     "text": [
      "Estimate for amp1: 10.243862 (variance: 0.000000)\n",
      "Estimate for amp2: 9.581695 (variance: 0.000000)\n",
      "Estimate for r1: 1.075554\n",
      "Estimate for r2: 11.576426\n",
      "Estimate for beta (noise): 0.912233\n"
     ]
    }
   ],
   "source": [
    "final_means = post_means\n",
    "\n",
    "chol_diag = tf.linalg.diag(tf.math.sqrt(tf.math.exp(chol_log_diag)))\n",
    "post_covariance_chol = tf.add(chol_diag, tf.linalg.band_part(chol_off_diag, -1, 0))\n",
    "\n",
    "post_covariance = tf.matmul(tf.transpose(post_covariance_chol), post_covariance_chol)\n",
    "\n",
    "final_covariance = post_covariance\n",
    "print(\"Estimate for amp1: %f (variance: %f)\" % (final_means[0], final_covariance[0, 0]))\n",
    "print(\"Estimate for amp2: %f (variance: %f)\" % (final_means[2], final_covariance[0, 0]))\n",
    "print(\"Estimate for r1: %f\" % (np.exp(final_means[1]),))\n",
    "print(\"Estimate for r2: %f\" % (np.exp(final_means[3]),))\n",
    "print(\"Estimate for beta (noise): %f\" % np.exp(-final_means[4]))"
   ]
  },
  {
   "cell_type": "code",
   "execution_count": 10,
   "metadata": {
    "vscode": {
     "languageId": "python"
    }
   },
   "outputs": [
    {
     "data": {
      "image/png": "[encoded data removed]",
      "text/plain": [
       "<Figure size 432x288 with 1 Axes>"
      ]
     },
     "metadata": {
      "needs_background": "light"
     },
     "output_type": "display_data"
    },
    {
     "data": {
      "image/png": "[encoded data removed]",
      "text/plain": [
       "<Figure size 432x288 with 1 Axes>"
      ]
     },
     "metadata": {
      "needs_background": "light"
     },
     "output_type": "display_data"
    }
   ],
   "source": [
    "plt.figure()\n",
    "plt.plot(cost_history)\n",
    "plt.ylim(0, 500)\n",
    "\n",
    "plt.figure()\n",
    "plt.plot(DATA_CLEAN, 'g')\n",
    "plt.plot(DATA, 'rx')\n",
    "S=5\n",
    "eps = tf.random.normal((NUM_PARAMS, S), 0, 1, dtype=tf.float32)\n",
    "\n",
    "samples = tf.tile(tf.reshape(post_means, [NUM_PARAMS, 1]), [1, S])\n",
    "\n",
    "# Now add the random sample scaled by the covariance\n",
    "post_samples = tf.add(samples, tf.matmul(post_covariance_chol, eps))\n",
    "\n",
    "a1 = tf.reshape(post_samples[0], [-1, 1])\n",
    "r1 = tf.math.exp(tf.reshape(post_samples[1], [-1, 1]))\n",
    "a2 = tf.reshape(post_samples[2], [-1, 1])\n",
    "r2 = tf.math.exp(tf.reshape(post_samples[3], [-1, 1]))\n",
    "\n",
    "# Get the current estimate of the noise variance remembering that\n",
    "# we are inferring the log of the noise precision, beta\n",
    "log_noise_var = -post_samples[4]\n",
    "noise_var = tf.math.exp(log_noise_var)\n",
    "\n",
    "# Each sample value predicts the full set of values in the data sample.\n",
    "# For our constant-signal model, the prediction is simply a set of \n",
    "# constant values. The prediction tensor will have shape [S, N]\n",
    "# where S is the sample size and N is the number of data values\n",
    "t = tf.reshape(tf.constant(T, dtype=tf.float32), [1, -1])\n",
    "prediction = a1*tf.math.exp(-r1*t) + a2*tf.exp(-r2*t)\n",
    "\n",
    "plt.plot(prediction[0], 'b')\n",
    "plt.show()"
   ]
  },
  {
   "cell_type": "code",
   "execution_count": null,
   "metadata": {
    "vscode": {
     "languageId": "python"
    }
   },
   "outputs": [],
   "source": []
  }
 ],
 "metadata": {
  "kernelspec": {
   "display_name": "sc_venv_tf",
   "language": "python",
   "name": "sc_venv_tf"
  },
  "language_info": {
   "codemirror_mode": {
    "name": "ipython",
    "version": 3
   },
   "file_extension": ".py",
   "mimetype": "text/x-python",
   "name": "python",
   "nbconvert_exporter": "python",
   "pygments_lexer": "ipython3",
   "version": "3.10.4"
  },
  "vscode": {
   "interpreter": {
    "hash": "31f2aee4e71d21fbe5cf8b01ff0e069b9275f58929596ceb00d14d90e3e16cd6"
   }
  }
 },
 "nbformat": 4,
 "nbformat_minor": 4
}
