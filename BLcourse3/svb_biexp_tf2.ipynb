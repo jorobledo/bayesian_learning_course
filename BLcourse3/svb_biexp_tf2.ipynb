{
 "cells": [
  {
   "cell_type": "markdown",
   "metadata": {},
   "source": [
    "Stochastic Variational Bayes - example nonlinear model\n",
    "==============================================\n",
    "\n",
    "This notebook implements stochastic variational Bayes for a nonlinear model. The model we will use is a bi-exponential model, i.e. we will assume our data reflects a time-dependent signal of the following form:\n",
    "\n",
    "$$S_{true}(t) = A_1 e^{-R_1t} + A_2 e^{-R_2t}$$\n",
    "\n",
    "However the actual time dependent signal $S(t)$ will be affected by additive Gaussian noise, so will have the distribution:\n",
    "\n",
    "$$P(S(t)) = \\frac{\\sqrt{\\beta}}{\\sqrt{2\\pi}} \\exp{\\bigg(-\\frac{\\beta}{2} (S(t) - S_{true}(t))^2}\\bigg)$$\n",
    "\n",
    "Given $S(t)$ our aim will be to infer the values of $A_1$, $A_2$, $R_1$, $R_2$ and $\\beta$.\n",
    "\n",
    "Here's how we can generate some sample data from this model in Python:"
   ]
  },
  {
   "cell_type": "code",
   "execution_count": 1,
   "metadata": {
    "vscode": {
     "languageId": "python"
    }
   },
   "outputs": [
    {
     "name": "stdout",
     "output_type": "stream",
     "text": [
      "Data samples are:\n",
      "[ 1.97500617e+01  1.69885250e+01  1.50062211e+01  1.43980785e+01\n",
      "  1.32112755e+01  1.08992605e+01  1.03857760e+01  1.19631084e+01\n",
      "  1.00921476e+01  8.71638191e+00  7.08870663e+00  7.84725776e+00\n",
      "  7.78443589e+00  6.39189454e+00  8.57398616e+00  6.98333006e+00\n",
      "  7.43456780e+00  7.06284559e+00  6.37281505e+00  7.31804855e+00\n",
      "  5.52339501e+00  3.31670409e+00  4.60975706e+00  5.24065105e+00\n",
      "  4.92757210e+00  5.86157074e+00  6.63370219e+00  7.02102354e+00\n",
      "  5.62854813e+00  4.46035973e+00  4.96414316e+00  4.43033520e+00\n",
      "  2.86364372e+00  5.44086183e+00  5.14417799e+00  3.52738176e+00\n",
      "  2.40727039e+00  3.46755976e+00  4.82115206e+00  4.15575431e+00\n",
      "  2.62059358e+00  2.02807156e+00  1.95192759e+00  6.01394950e+00\n",
      "  2.45151987e+00  4.02778158e+00  3.84532153e+00  3.58201136e+00\n",
      "  4.34133136e+00  1.68856025e+00  2.63906228e+00  7.52979360e-01\n",
      "  1.22272777e+00  1.77950273e+00  3.91426252e+00  3.36739021e+00\n",
      "  2.18166099e+00  2.23388904e+00  3.34926855e+00  5.65087058e-01\n",
      "  3.80047276e+00  2.52737695e+00  1.69096983e+00  2.09784187e+00\n",
      "  2.88989046e+00  9.74733850e-01  1.93337379e+00  7.34526840e-01\n",
      "  2.74502727e+00  2.55524227e+00  1.05991906e-01  2.08313322e+00\n",
      "  1.02243864e+00  1.85142857e+00  7.00527213e-01 -4.10987729e-01\n",
      " -1.66360926e-02  9.88385252e-01  3.24848038e+00  1.15746342e+00\n",
      "  1.75361016e+00  2.37971215e+00  2.10587914e+00  1.97927297e+00\n",
      "  8.14208945e-01  1.69250534e+00  1.18495989e+00  7.64118962e-01\n",
      "  2.95853100e+00  6.53163195e-01 -8.63727007e-01  2.18384873e+00\n",
      "  1.94703395e-01  1.48943001e+00  1.83228628e+00  1.91563212e+00\n",
      "  8.08220997e-01  1.54883207e+00  1.61959633e+00  4.16092063e-01\n",
      "  1.16433162e+00  5.35785042e-01  1.90137203e+00  7.02612348e-01\n",
      "  1.29046453e+00  8.92487709e-01 -2.64231620e-01 -8.54302692e-01\n",
      "  6.37584582e-01  4.82940111e-01  1.68503847e+00  1.19429022e+00\n",
      "  4.15632357e-01  8.55995867e-01 -1.85115837e-01 -1.10504370e+00\n",
      "  1.74995031e+00 -3.38466689e-02  6.68295680e-01 -6.53418176e-01\n",
      "  9.81458810e-01  1.06262728e+00  8.33793101e-01  1.38619525e+00\n",
      "  1.78709092e+00  8.64536627e-01  1.05507308e+00  9.00817240e-01\n",
      "  8.71243672e-01  1.52527755e+00 -9.09435009e-02  9.67321312e-02\n",
      "  2.77606532e-01 -1.19716427e-01  1.99337816e+00  7.69944081e-01\n",
      " -1.73815193e+00  1.28147836e+00  4.10471483e-01  1.67324454e+00\n",
      " -1.61237515e-01  2.83519822e-01  1.40862109e+00  9.26793350e-02\n",
      "  1.35392615e-01  6.99033734e-01 -2.98234440e-01 -1.35252343e-01\n",
      " -3.93119185e-01 -6.76548962e-01 -2.03034361e-01  2.00077171e+00\n",
      "  9.09675006e-03  1.78607214e-01 -8.07232188e-01 -2.80071388e+00\n",
      "  6.73957363e-01  2.93825431e-01 -8.53820843e-01 -1.08317767e-01\n",
      "  1.18373681e+00  1.68569505e+00  6.05732057e-01  2.32936947e+00\n",
      " -2.65713734e-01 -9.21566706e-02  2.68832683e-02  9.52096503e-01\n",
      " -4.64164692e-01 -1.81702639e-01 -9.97608378e-01  1.25579301e+00\n",
      "  1.77419320e+00  2.43718166e-01 -1.78560919e+00 -1.18664164e+00\n",
      " -1.74970948e+00  3.68501240e-01 -4.72438561e-01 -6.57151178e-01\n",
      "  5.58431833e-01 -6.62608353e-01 -1.19423147e+00  2.42435693e-01\n",
      " -7.11082777e-01  1.10115543e+00  1.52445396e-01  6.27521624e-01\n",
      "  1.65583185e+00 -6.70182907e-01  1.12555248e+00  1.15631491e+00\n",
      " -2.04129475e-01 -6.46758007e-01  2.13466685e+00 -1.05264616e+00\n",
      "  1.48136690e+00 -2.33578794e+00 -2.04236333e-01  5.94659971e-01]\n"
     ]
    }
   ],
   "source": [
    "import numpy as np\n",
    "%matplotlib inline\n",
    "# Ground truth parameters\n",
    "# We infer the precision, BETA, but it is useful to\n",
    "# derive the variance and standard deviation from it\n",
    "A1_TRUTH = 10.0\n",
    "A2_TRUTH = 10.0\n",
    "R1_TRUTH = 10.0\n",
    "R2_TRUTH = 1.0\n",
    "BETA_TRUTH = 1.0\n",
    "VAR_TRUTH = 1/BETA_TRUTH\n",
    "STD_TRUTH = np.sqrt(VAR_TRUTH)\n",
    "\n",
    "# Observed data samples are generated by Numpy from the ground truth\n",
    "# Gaussian distribution. Reducing the number of samples should make\n",
    "# the inference less 'confident' - i.e. the output variances for\n",
    "# MU and BETA will increase\n",
    "N = 200\n",
    "T = np.linspace(0, 5, N)\n",
    "\n",
    "\n",
    "DATA_CLEAN = A1_TRUTH * np.exp(-R1_TRUTH * T) + A2_TRUTH * np.exp(-R2_TRUTH*T)\n",
    "DATA = DATA_CLEAN + np.random.normal(0, STD_TRUTH, [N])\n",
    "print(\"Data samples are:\")\n",
    "print(DATA)"
   ]
  },
  {
   "cell_type": "markdown",
   "metadata": {},
   "source": [
    "We can plot this data to illustrate the true signal (green line) and the measured data (red crosses):"
   ]
  },
  {
   "cell_type": "code",
   "execution_count": 2,
   "metadata": {
    "vscode": {
     "languageId": "python"
    }
   },
   "outputs": [
    {
     "data": {
      "text/plain": [
       "[<matplotlib.lines.Line2D at 0x15459cdb5b80>]"
      ]
     },
     "execution_count": 2,
     "metadata": {},
     "output_type": "execute_result"
    },
    {
     "data": {
      "image/png": "[encoded data removed]",
      "text/plain": [
       "<Figure size 432x288 with 1 Axes>"
      ]
     },
     "metadata": {
      "needs_background": "light"
     },
     "output_type": "display_data"
    }
   ],
   "source": [
    "from matplotlib import pyplot as plt\n",
    "plt.figure()\n",
    "plt.plot(DATA, \"rx\")\n",
    "plt.plot(DATA_CLEAN, \"g\")"
   ]
  },
  {
   "cell_type": "markdown",
   "metadata": {},
   "source": [
    "As with the single Gaussian example we will use a multivariate normal distribution as our prior and approximate posterior distributions. \n",
    "\n",
    "One difference here is that we will choose to infer the log of the decay rate parameters $R_1$ and $R_2$. This is because if these parameters are allowed to become negative the model prediction will become an exponential growth and can easily lead to numerical errors.\n",
    "\n",
    "We will still choose our priors to be relatively uninformative as follows:\n"
   ]
  },
  {
   "cell_type": "code",
   "execution_count": 3,
   "metadata": {
    "vscode": {
     "languageId": "python"
    }
   },
   "outputs": [
    {
     "name": "stdout",
     "output_type": "stream",
     "text": [
      "Priors: Amplitude mean=1.000000, variance=100000.000000\n",
      "        Log decay rate mean=0.000000, variance=10.000000\n",
      "        Log noise variance mean=0.000000, variance=10.000000\n"
     ]
    }
   ],
   "source": [
    "a0 = 1.0\n",
    "v0 = 100000.0\n",
    "r0 = 0.0\n",
    "u0 = 10.0\n",
    "b0 = 0.0\n",
    "w0 = 10.0\n",
    "print(\"Priors: Amplitude mean=%f, variance=%f\" % (a0, v0))\n",
    "print(\"        Log decay rate mean=%f, variance=%f\" % (r0, u0))\n",
    "print(\"        Log noise variance mean=%f, variance=%f\" % (b0, w0))"
   ]
  },
  {
   "cell_type": "markdown",
   "metadata": {},
   "source": [
    "The posterior will be defined in the same way as for the single Gaussian example, however we need to account for the increased number of parameters we are inferring. We will initialize the posterior with the prior values but with reduced initial variance to prevent problems with generating a representative posterior sample. Remember that the decay rates (and the noise) are being inferred as their log-values so the prior mean of 0 translates into a value of 1.\n",
    "\n",
    "The code to generate a posterior sample is unchanged except for the number of parameters.\n",
    "\n",
    "In calculating the reconstruction cost we need to calculate the log likelihood of the data given a set of model parameters. We do this by observing that any difference between the biexponential model prediction (given these parameters) and the actual noisy data must be a result of the Gaussian noise - hence the likelihood is simply the likelihood of drawing these differences from the Gaussian noise distribution:\n",
    "\n",
    "$$\\log P(\\textbf{y} | A_1; A_2; r_1; r_2; \\beta) = \\frac{1}{2} \\bigg( N \\log \\beta - \\sum{\\frac{(y_n - M_n)^2}{\\beta}}\\bigg)$$\n",
    "\n",
    "Here $M_n$ is the model prediction for the nth data point which is calculated by evaluating the biexponential model for the given parameters $A_1$, $A_2$, $r_1$ and $r_2$.\n",
    "\n",
    "For the latent loss we will again use the analytic expression for the K-L divergence of two MVN distributions with a slight modification to the previous code to account for the different number of parameters (5 vs 2)"
   ]
  },
  {
   "cell_type": "code",
   "execution_count": 4,
   "metadata": {
    "vscode": {
     "languageId": "python"
    }
   },
   "outputs": [
    {
     "name": "stderr",
     "output_type": "stream",
     "text": [
      "2023-03-23 02:10:34.570648: I tensorflow/core/common_runtime/gpu/gpu_device.cc:1510] Created device /job:localhost/replica:0/task:0/device:GPU:0 with 343 MB memory:  -> device: 0, name: NVIDIA A100-SXM4-40GB, pci bus id: 0000:03:00.0, compute capability: 8.0\n",
      "2023-03-23 02:10:34.572275: I tensorflow/core/common_runtime/gpu/gpu_device.cc:1510] Created device /job:localhost/replica:0/task:0/device:GPU:1 with 37738 MB memory:  -> device: 1, name: NVIDIA A100-SXM4-40GB, pci bus id: 0000:44:00.0, compute capability: 8.0\n",
      "2023-03-23 02:10:34.573731: I tensorflow/core/common_runtime/gpu/gpu_device.cc:1510] Created device /job:localhost/replica:0/task:0/device:GPU:2 with 37738 MB memory:  -> device: 2, name: NVIDIA A100-SXM4-40GB, pci bus id: 0000:84:00.0, compute capability: 8.0\n",
      "2023-03-23 02:10:34.575240: I tensorflow/core/common_runtime/gpu/gpu_device.cc:1510] Created device /job:localhost/replica:0/task:0/device:GPU:3 with 37738 MB memory:  -> device: 3, name: NVIDIA A100-SXM4-40GB, pci bus id: 0000:c4:00.0, compute capability: 8.0\n"
     ]
    }
   ],
   "source": [
    "import tensorflow as tf\n",
    "\n",
    "# Number of parameters - 4 for the biexponential + noise\n",
    "NUM_PARAMS = 4 + 1\n",
    "\n",
    "data = tf.constant(DATA, dtype=tf.float32)\n",
    "prior_means = tf.constant([a0, r0, a0, r0, b0], dtype=tf.float32)\n",
    "prior_covariance = tf.linalg.diag(tf.constant([v0, u0, v0, u0, w0], dtype=tf.float32))\n",
    "\n",
    "post_means_init = prior_means\n",
    "post_covariance_init = np.identity(NUM_PARAMS, dtype=np.float32)\n",
    "\n",
    "chol_off_diag = tf.Variable(np.zeros(post_covariance_init.shape), dtype=tf.float32)\n",
    "# Comment in this line if you do NOT want to infer parameter covariances\n",
    "#chol_off_diag = tf.constant([[0, 0], [0, 0]], dtype=tf.float32)\n",
    "chol_log_diag = tf.Variable(tf.math.log(tf.linalg.diag_part(post_covariance_init)), dtype=tf.float32)\n",
    "\n",
    "post_means = tf.Variable(post_means_init, dtype=tf.float32)\n",
    "\n",
    "t = tf.reshape(tf.constant(T, dtype=tf.float32), [1, -1])\n",
    "\n",
    "\n",
    "\n",
    "def cost_fun():\n",
    "\n",
    "    chol_diag = tf.linalg.diag(tf.math.sqrt(tf.math.exp(chol_log_diag)))\n",
    "    post_covariance_chol = tf.math.add(chol_diag, tf.linalg.band_part(chol_off_diag, -1, 0))\n",
    "\n",
    "    post_covariance = tf.matmul(tf.transpose(post_covariance_chol), post_covariance_chol)\n",
    "\n",
    "    S=5\n",
    "    N=200\n",
    "\n",
    "# eps is a sample from a Gaussian with mean 0 and variance 1\n",
    "    eps = tf.random.normal((NUM_PARAMS, S), 0, 1, dtype=tf.float32)\n",
    "\n",
    "# Start off each sample with the current posterior mean\n",
    "# post_samples is now a tensor of shape [NUM_PARAMS, n_samples]\n",
    "    samples = tf.tile(tf.reshape(post_means, [NUM_PARAMS, 1]), [1, S])\n",
    "\n",
    "# Now add the random sample scaled by the covariance\n",
    "    post_samples = tf.add(samples, tf.matmul(post_covariance_chol, eps))\n",
    "\n",
    "    a1 = tf.reshape(post_samples[0], [-1, 1])\n",
    "    r1 = tf.math.exp(tf.reshape(post_samples[1], [-1, 1]))\n",
    "    a2 = tf.reshape(post_samples[2], [-1, 1])\n",
    "    r2 = tf.math.exp(tf.reshape(post_samples[3], [-1, 1]))\n",
    "\n",
    "# Get the current estimate of the noise variance remembering that\n",
    "# we are inferring the log of the noise precision, beta\n",
    "    log_noise_var = -post_samples[4]\n",
    "    noise_var = tf.math.exp(log_noise_var)\n",
    "\n",
    "# Each sample value predicts the full set of values in the data sample.\n",
    "# For our constant-signal model, the prediction is simply a set of \n",
    "# constant values. The prediction tensor will have shape [S, N]\n",
    "# where S is the sample size and N is the number of data values\n",
    "    \n",
    "\n",
    "    prediction = a1*tf.math.exp(-r1*t) + a2*tf.exp(-r2*t)\n",
    "    diff = tf.reshape(data, [1, -1]) - prediction\n",
    "\n",
    "# To calculate the likelihood we need the sum of the squared difference between the data  \n",
    "# and the prediction. This gives a value for each posterior sample so has shape [S]\n",
    "    sum_square_diff = tf.reduce_sum(tf.math.square(diff), axis=1)\n",
    "\n",
    "# Now we calculate the likelihood for each posterior sample (shape [S])\n",
    "# Note that we are ignoring constant factors such as 2*PI here as they \n",
    "# are just an fixed offset and do not affect the optimization \n",
    "    log_likelihood = 0.5 * (-log_noise_var * tf.cast(N,dtype=tf.float32) - sum_square_diff / noise_var)\n",
    "\n",
    "# Finally to evaluate the expectation value we take the mean across all the posterior\n",
    "# samples. The negative of this is the reconstruction loss\n",
    "    reconstr_loss = -tf.reduce_mean(log_likelihood)\n",
    "\n",
    "    C = post_covariance\n",
    "    C0 = prior_covariance\n",
    "    #print(\"is this the problem? 1\")\n",
    "    #print(tf.linalg.det(C0))\n",
    "    C0_inv = tf.linalg.inv(C0)\n",
    "    #print(\"is this the problem? 2\")\n",
    "\n",
    "# m - m0 as row and column vectors\n",
    "    m_minus_m0 = tf.reshape(tf.subtract(post_means, prior_means), [-1, 1])\n",
    "    m_minus_m0_T = tf.reshape(tf.subtract(post_means, prior_means), [1, -1])\n",
    "\n",
    "    term1 = tf.linalg.trace(tf.matmul(C0_inv, C))\n",
    "    term2 = -tf.math.log(tf.linalg.det(C) / tf.linalg.det(C0))\n",
    "\n",
    "# Size of the MVN distribution\n",
    "    term3 = -NUM_PARAMS\n",
    "    term4 = tf.matmul(tf.matmul(m_minus_m0_T, C0_inv), m_minus_m0)\n",
    "          \n",
    "    latent_loss = 0.5 * (term1 + term2 + term3 + term4)\n",
    "\n",
    "    #cost = reconstr_loss + latent_loss\n",
    "    cost=reconstr_loss\n",
    "\n",
    "    return cost\n",
    "\n",
    "\n"
   ]
  },
  {
   "cell_type": "markdown",
   "metadata": {},
   "source": [
    "Finally we ask TensorFlow to minimise the total cost iteratively:"
   ]
  },
  {
   "cell_type": "code",
   "execution_count": 7,
   "metadata": {
    "vscode": {
     "languageId": "python"
    }
   },
   "outputs": [
    {
     "data": {
      "application/vnd.jupyter.widget-view+json": {
       "model_id": "cd06775d27544b8b8190d373e6d0b97a",
       "version_major": 2,
       "version_minor": 0
      },
      "text/plain": [
       "Epoch::   0%|          | 0/5000 [00:00<?, ?it/s]"
      ]
     },
     "metadata": {},
     "output_type": "display_data"
    }
   ],
   "source": [
    "optimizer = tf.keras.optimizers.Adam(learning_rate=0.02)\n",
    "#minimizer = optimizer.minimize(cost)\n",
    "#sess.run(tf.global_variables_initializer())\n",
    "from tqdm.notebook import tqdm_notebook\n",
    "\n",
    "cost_history = []\n",
    "for epoch in tqdm_notebook(range(5000), desc=\"Epoch:\"):\n",
    "    #sess.run(minimizer)\n",
    "\n",
    "    optimizer.minimize(cost_fun,var_list=[chol_off_diag,chol_log_diag,post_means])\n",
    "    #print(float(cost_fun()))\n",
    "    cost_history.append(float(cost_fun()))\n",
    "    #print(\"Epoch %i: posterior means=%s\" % (epoch+1, post_means))"
   ]
  },
  {
   "cell_type": "code",
   "execution_count": 8,
   "metadata": {
    "vscode": {
     "languageId": "python"
    }
   },
   "outputs": [
    {
     "name": "stdout",
     "output_type": "stream",
     "text": [
      "Estimate for amp1: 10.243862 (variance: 0.000000)\n",
      "Estimate for amp2: 9.581695 (variance: 0.000000)\n",
      "Estimate for r1: 1.075554\n",
      "Estimate for r2: 11.576426\n",
      "Estimate for beta (noise): 0.912233\n"
     ]
    }
   ],
   "source": [
    "final_means = post_means\n",
    "\n",
    "chol_diag = tf.linalg.diag(tf.math.sqrt(tf.math.exp(chol_log_diag)))\n",
    "post_covariance_chol = tf.add(chol_diag, tf.linalg.band_part(chol_off_diag, -1, 0))\n",
    "\n",
    "post_covariance = tf.matmul(tf.transpose(post_covariance_chol), post_covariance_chol)\n",
    "\n",
    "final_covariance = post_covariance\n",
    "print(\"Estimate for amp1: %f (variance: %f)\" % (final_means[0], final_covariance[0, 0]))\n",
    "print(\"Estimate for amp2: %f (variance: %f)\" % (final_means[2], final_covariance[0, 0]))\n",
    "print(\"Estimate for r1: %f\" % (np.exp(final_means[1]),))\n",
    "print(\"Estimate for r2: %f\" % (np.exp(final_means[3]),))\n",
    "print(\"Estimate for beta (noise): %f\" % np.exp(-final_means[4]))"
   ]
  },
  {
   "cell_type": "code",
   "execution_count": 10,
   "metadata": {
    "vscode": {
     "languageId": "python"
    }
   },
   "outputs": [
    {
     "data": {
      "image/png": "[encoded data removed]",
      "text/plain": [
       "<Figure size 432x288 with 1 Axes>"
      ]
     },
     "metadata": {
      "needs_background": "light"
     },
     "output_type": "display_data"
    },
    {
     "data": {
      "image/png": "[encoded data removed]",
      "text/plain": [
       "<Figure size 432x288 with 1 Axes>"
      ]
     },
     "metadata": {
      "needs_background": "light"
     },
     "output_type": "display_data"
    }
   ],
   "source": [
    "plt.figure()\n",
    "plt.plot(cost_history)\n",
    "plt.ylim(0, 500)\n",
    "\n",
    "plt.figure()\n",
    "plt.plot(DATA_CLEAN, 'g')\n",
    "plt.plot(DATA, 'rx')\n",
    "S=5\n",
    "eps = tf.random.normal((NUM_PARAMS, S), 0, 1, dtype=tf.float32)\n",
    "\n",
    "samples = tf.tile(tf.reshape(post_means, [NUM_PARAMS, 1]), [1, S])\n",
    "\n",
    "# Now add the random sample scaled by the covariance\n",
    "post_samples = tf.add(samples, tf.matmul(post_covariance_chol, eps))\n",
    "\n",
    "a1 = tf.reshape(post_samples[0], [-1, 1])\n",
    "r1 = tf.math.exp(tf.reshape(post_samples[1], [-1, 1]))\n",
    "a2 = tf.reshape(post_samples[2], [-1, 1])\n",
    "r2 = tf.math.exp(tf.reshape(post_samples[3], [-1, 1]))\n",
    "\n",
    "# Get the current estimate of the noise variance remembering that\n",
    "# we are inferring the log of the noise precision, beta\n",
    "log_noise_var = -post_samples[4]\n",
    "noise_var = tf.math.exp(log_noise_var)\n",
    "\n",
    "# Each sample value predicts the full set of values in the data sample.\n",
    "# For our constant-signal model, the prediction is simply a set of \n",
    "# constant values. The prediction tensor will have shape [S, N]\n",
    "# where S is the sample size and N is the number of data values\n",
    "t = tf.reshape(tf.constant(T, dtype=tf.float32), [1, -1])\n",
    "prediction = a1*tf.math.exp(-r1*t) + a2*tf.exp(-r2*t)\n",
    "\n",
    "plt.plot(prediction[0], 'b')\n",
    "plt.show()"
   ]
  },
  {
   "cell_type": "code",
   "execution_count": null,
   "metadata": {
    "vscode": {
     "languageId": "python"
    }
   },
   "outputs": [],
   "source": []
  }
 ],
 "metadata": {
  "kernelspec": {
   "display_name": "PyDeepLearning-1.1",
   "language": "python",
   "name": "pydeeplearning"
  },
  "language_info": {
   "codemirror_mode": {
    "name": "ipython",
    "version": 3
   },
   "file_extension": ".py",
   "mimetype": "text/x-python",
   "name": "python",
   "nbconvert_exporter": "python",
   "pygments_lexer": "ipython3",
   "version": "3.9.6"
  },
  "vscode": {
   "interpreter": {
    "hash": "31f2aee4e71d21fbe5cf8b01ff0e069b9275f58929596ceb00d14d90e3e16cd6"
   }
  }
 },
 "nbformat": 4,
 "nbformat_minor": 4
}
